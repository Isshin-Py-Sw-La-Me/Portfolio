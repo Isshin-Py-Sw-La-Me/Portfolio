{
 "cells": [
  {
   "cell_type": "code",
   "execution_count": 1,
   "id": "a7a14883-48a7-4181-acba-0da1e8bb5e12",
   "metadata": {},
   "outputs": [],
   "source": [
    "import numpy as np\n",
    "from matplotlib import pyplot as plt\n",
    "from sklearn import metrics"
   ]
  },
  {
   "cell_type": "code",
   "execution_count": 2,
   "id": "17c35b94-aa22-4599-bffa-b0aaa0a868e1",
   "metadata": {},
   "outputs": [],
   "source": [
    "y_score = np.random.rand(100)\n",
    "y_true = (np.random.rand(100) < 0.7) * 1"
   ]
  },
  {
   "cell_type": "code",
   "execution_count": 3,
   "id": "1c4a3995-0dcd-4849-9ea8-c98138b25473",
   "metadata": {},
   "outputs": [
    {
     "data": {
      "text/plain": [
       "array([0.03776173, 0.52706832, 0.3672389 , 0.55702632, 0.88094902,\n",
       "       0.99054709, 0.40347945, 0.20220527, 0.90995706, 0.35045349,\n",
       "       0.04802645, 0.01940335, 0.14742593, 0.45151496, 0.69862217,\n",
       "       0.86915414, 0.98316488, 0.56902073, 0.25471871, 0.93356351,\n",
       "       0.79521567, 0.18742693, 0.72196575, 0.32409624, 0.63371083,\n",
       "       0.65531222, 0.42895645, 0.84100301, 0.15620435, 0.93558154,\n",
       "       0.48817525, 0.08667049, 0.26774098, 0.8264337 , 0.82228328,\n",
       "       0.37067953, 0.53882175, 0.07594225, 0.2466135 , 0.43671866,\n",
       "       0.00951915, 0.95699371, 0.36695753, 0.2527698 , 0.46496128,\n",
       "       0.74355251, 0.69621519, 0.37415148, 0.08292927, 0.13479831,\n",
       "       0.94042459, 0.54900587, 0.38414602, 0.72794874, 0.8710108 ,\n",
       "       0.63450519, 0.99735132, 0.92925355, 0.19915723, 0.90816091,\n",
       "       0.23238961, 0.52015352, 0.76727363, 0.21547512, 0.97494589,\n",
       "       0.87381551, 0.7623992 , 0.05417505, 0.37497951, 0.87448634,\n",
       "       0.0935872 , 0.97599145, 0.3181224 , 0.6604212 , 0.71213755,\n",
       "       0.20340007, 0.07941747, 0.31672592, 0.07677967, 0.06084304,\n",
       "       0.64309076, 0.28510083, 0.63116447, 0.93246256, 0.51361391,\n",
       "       0.13800992, 0.3957223 , 0.90194334, 0.95850752, 0.26115171,\n",
       "       0.13259751, 0.24466261, 0.9203504 , 0.39045684, 0.95197314,\n",
       "       0.64093528, 0.13768085, 0.98937641, 0.12940656, 0.09619457])"
      ]
     },
     "execution_count": 3,
     "metadata": {},
     "output_type": "execute_result"
    }
   ],
   "source": [
    "y_score"
   ]
  },
  {
   "cell_type": "code",
   "execution_count": 4,
   "id": "c3a14fca-3a31-4b97-8a21-f75a5a85dc3a",
   "metadata": {},
   "outputs": [
    {
     "data": {
      "text/plain": [
       "array([1, 1, 1, 1, 0, 1, 1, 0, 0, 1, 1, 1, 1, 1, 1, 1, 1, 0, 1, 0, 1, 1,\n",
       "       1, 1, 1, 1, 0, 1, 1, 0, 1, 1, 1, 1, 1, 1, 0, 1, 1, 1, 0, 1, 1, 1,\n",
       "       1, 1, 1, 1, 1, 1, 1, 1, 1, 0, 1, 1, 0, 0, 0, 1, 0, 1, 1, 1, 1, 1,\n",
       "       1, 1, 1, 1, 1, 0, 1, 1, 0, 1, 1, 0, 1, 1, 1, 1, 1, 0, 1, 1, 1, 0,\n",
       "       0, 1, 0, 1, 1, 1, 0, 0, 1, 1, 1, 0])"
      ]
     },
     "execution_count": 4,
     "metadata": {},
     "output_type": "execute_result"
    }
   ],
   "source": [
    "y_true"
   ]
  },
  {
   "cell_type": "code",
   "execution_count": 8,
   "id": "266d12c2-6f5a-46fb-b129-40858bea2ebc",
   "metadata": {},
   "outputs": [
    {
     "data": {
      "image/png": "[encoded data removed]",
      "text/plain": [
       "<Figure size 432x288 with 1 Axes>"
      ]
     },
     "metadata": {
      "needs_background": "light"
     },
     "output_type": "display_data"
    }
   ],
   "source": [
    "fpr, tpr, thresholds = metrics.roc_curve(y_true, y_score)\n",
    "# auc = metrics.auc(fpr, tpr)\n",
    "# plt.plot(fpr, tpr, label=\"ROC curve (area = %.2f)\" % auc)\n",
    "plt.plot(fpr, tpr)\n",
    "plt.xlabel(\"FPR: False positive rate\")\n",
    "plt.ylabel(\"TPR: True positive rate\")\n",
    "plt.grid()\n",
    "plt.show()"
   ]
  },
  {
   "cell_type": "code",
   "execution_count": null,
   "id": "6aca7213-6fca-484d-a7ca-977f2e637a4f",
   "metadata": {},
   "outputs": [],
   "source": []
  }
 ],
 "metadata": {
  "kernelspec": {
   "display_name": "Python 3 (ipykernel)",
   "language": "python",
   "name": "python3"
  },
  "language_info": {
   "codemirror_mode": {
    "name": "ipython",
    "version": 3
   },
   "file_extension": ".py",
   "mimetype": "text/x-python",
   "name": "python",
   "nbconvert_exporter": "python",
   "pygments_lexer": "ipython3",
   "version": "3.9.12"
  }
 },
 "nbformat": 4,
 "nbformat_minor": 5
}
