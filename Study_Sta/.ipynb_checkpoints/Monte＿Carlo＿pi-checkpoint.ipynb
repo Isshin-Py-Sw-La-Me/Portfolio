{
 "cells": [
  {
   "cell_type": "code",
   "execution_count": 30,
   "id": "e87897d3-5d9d-42c4-8a4a-ba4835f43976",
   "metadata": {},
   "outputs": [],
   "source": [
    "import matplotlib.pyplot as plt\n",
    "import numpy as np\n",
    "import pandas as pd\n",
    "from ipywidgets import interact\n",
    "\n",
    "%matplotlib inline"
   ]
  },
  {
   "cell_type": "code",
   "execution_count": 31,
   "id": "6769b7de-46c8-4e5c-b668-393d77d4f61d",
   "metadata": {},
   "outputs": [],
   "source": [
    "np.random.seed(123)"
   ]
  },
  {
   "cell_type": "code",
   "execution_count": 32,
   "id": "73e162ca-49e9-4acf-bb62-4a960b963ecf",
   "metadata": {},
   "outputs": [],
   "source": [
    "n = 100\n",
    "xs = np.random.rand(n)\n",
    "ys = np.random.rand(n)"
   ]
  },
  {
   "cell_type": "code",
   "execution_count": 33,
   "id": "c8707871-fadf-47ab-8447-3c27c4b229d5",
   "metadata": {},
   "outputs": [],
   "source": [
    "def main(k):\n",
    "    plt.xlim([0, 1])\n",
    "    plt.ylim([0, 1])\n",
    "\n",
    "    x = np.arange(0, 1, 0.001)\n",
    "    y = (1 - x**2) ** 0.5\n",
    "    y2 = np.ones(x.shape[0])\n",
    "    plt.plot(x, y)\n",
    "\n",
    "    plt.fill_between(x, y, alpha=0.3)\n",
    "    plt.fill_between(x, y, y2, alpha=0.3)\n",
    "\n",
    "    r = (xs[:k] ** 2 + ys[:k] ** 2) ** 0.5\n",
    "    # print(r)\n",
    "    accept = np.where(r <= 1, 1, 0)\n",
    "    # print(accept)\n",
    "    accept_ratio = np.sum(accept) / k\n",
    "\n",
    "    plt.scatter(xs[:k], ys[:k], color=\"black\", marker=\".\")\n",
    "    print(\"MC: \", accept_ratio)\n",
    "    print(\"pi/4\", np.pi / 4.0)\n",
    "    plt.show()"
   ]
  },
  {
   "cell_type": "code",
   "execution_count": 34,
   "id": "b9bb0c10-8237-4524-b910-659da7f37067",
   "metadata": {},
   "outputs": [
    {
     "data": {
      "application/vnd.jupyter.widget-view+json": {
       "model_id": "96119961a12b4ae2a6b7e55762af7567",
       "version_major": 2,
       "version_minor": 0
      },
      "text/plain": [
       "interactive(children=(IntSlider(value=50, description='k'), Output()), _dom_classes=('widget-interact',))"
      ]
     },
     "metadata": {},
     "output_type": "display_data"
    },
    {
     "data": {
      "text/plain": [
       "<function __main__.main(k)>"
      ]
     },
     "execution_count": 34,
     "metadata": {},
     "output_type": "execute_result"
    }
   ],
   "source": [
    "interact(main, k=(0, 100, 1))"
   ]
  },
  {
   "cell_type": "code",
   "execution_count": null,
   "id": "3e3e3d58-be16-441a-923f-4b4aae68bb85",
   "metadata": {},
   "outputs": [],
   "source": []
  }
 ],
 "metadata": {
  "kernelspec": {
   "display_name": "Python 3 (ipykernel)",
   "language": "python",
   "name": "python3"
  },
  "language_info": {
   "codemirror_mode": {
    "name": "ipython",
    "version": 3
   },
   "file_extension": ".py",
   "mimetype": "text/x-python",
   "name": "python",
   "nbconvert_exporter": "python",
   "pygments_lexer": "ipython3",
   "version": "3.9.15"
  }
 },
 "nbformat": 4,
 "nbformat_minor": 5
}
