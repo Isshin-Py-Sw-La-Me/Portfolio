{
 "cells": [
  {
   "cell_type": "code",
   "execution_count": 3,
   "id": "f5e5aab8-53df-43c5-b859-6df660e105a8",
   "metadata": {},
   "outputs": [],
   "source": [
    "from faker import Faker"
   ]
  },
  {
   "cell_type": "code",
   "execution_count": 6,
   "id": "26b9699d-efa8-401d-8dfb-cf24acf98e4e",
   "metadata": {},
   "outputs": [],
   "source": [
    "fake = Faker(\"ja-JP\")"
   ]
  },
  {
   "cell_type": "code",
   "execution_count": 8,
   "id": "16544929-2385-44a9-a7b4-355ea90eabc0",
   "metadata": {},
   "outputs": [
    {
     "data": {
      "text/plain": [
       "['必要オークション脊椎自体君は式仕上げ。販売メニュートースト残る。敵対的な発生する極端な電池電話トレーナーダイヤモンド。\\n持ってるカラム連続バナーささやき彼。バス欠乏リハビリ大統領。\\n評議会バーゲン厳しい建築細かい差別する。ベルベットバーゲンプラスチック索引。\\n叔父職人証言するキャビネット。同行証言する催眠術探査。',\n",
       " 'ニュース織るハードウェア。\\nブランチ証言するあったない。助けて敵それノート主人残る。\\n脊椎運野球ダニ私擁する。陶器狐ベルベット。\\n出演者フェミニスト私数字。改善省略拡張運埋め込むリンク。\\n脊椎溝編組緩むインチアクセルペダル。尿分割リンク連続君は狐。\\n持つ知覚再現するダニあなた自身コンペ不自然な。仕上げ擁するそれ細かい器官運。',\n",
       " '運コミュニティは。溝必要ダッシュ錯覚副じぶんの。持っていましたコンペ転倒舗装。\\nコーナー呼ぶ屋根裏ジャーナル保持するベルベット通行料金。ハンマーあったバナートリビュートリンク同行ノート。助けて装置ヘアベルベット。\\n創傷副行進ノート。屋根裏電池キャビネットない仕上げスマッシュコンペ戦略的。人形パン供給ブレーキ。ブランチ編組中央。']"
      ]
     },
     "execution_count": 8,
     "metadata": {},
     "output_type": "execute_result"
    }
   ],
   "source": [
    "fake.texts()"
   ]
  },
  {
   "cell_type": "code",
   "execution_count": 11,
   "id": "4fd08bd2-f91c-43e0-9b05-5ab6f1aafea8",
   "metadata": {},
   "outputs": [
    {
     "data": {
      "text/plain": [
       "'1974-03-25'"
      ]
     },
     "execution_count": 11,
     "metadata": {},
     "output_type": "execute_result"
    }
   ],
   "source": [
    "fake.date()"
   ]
  },
  {
   "cell_type": "code",
   "execution_count": 12,
   "id": "cb159dd2-5f15-4431-a1aa-01fa9ee81b7a",
   "metadata": {},
   "outputs": [
    {
     "data": {
      "text/plain": [
       "'1978/09/20 08:17:39'"
      ]
     },
     "execution_count": 12,
     "metadata": {},
     "output_type": "execute_result"
    }
   ],
   "source": [
    "fake.date_time().strftime(\"%Y/%m/%d %H:%M:%S\")"
   ]
  },
  {
   "cell_type": "code",
   "execution_count": null,
   "id": "eb044f72-574d-4a46-89b1-94ef360029a7",
   "metadata": {},
   "outputs": [],
   "source": []
  }
 ],
 "metadata": {
  "kernelspec": {
   "display_name": "Python 3 (ipykernel)",
   "language": "python",
   "name": "python3"
  },
  "language_info": {
   "codemirror_mode": {
    "name": "ipython",
    "version": 3
   },
   "file_extension": ".py",
   "mimetype": "text/x-python",
   "name": "python",
   "nbconvert_exporter": "python",
   "pygments_lexer": "ipython3",
   "version": "3.9.15"
  }
 },
 "nbformat": 4,
 "nbformat_minor": 5
}
