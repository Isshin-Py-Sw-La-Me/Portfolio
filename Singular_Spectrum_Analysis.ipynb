{
 "cells": [
  {
   "cell_type": "code",
   "execution_count": 41,
   "id": "f63f3371-7acc-4191-bcd7-0d92ec63a721",
   "metadata": {},
   "outputs": [
    {
     "data": {
      "text/plain": [
       "array([[200.004,   4.82 ,   2.135],\n",
       "       [200.008,   4.805,   2.19 ],\n",
       "       [200.012,   4.75 ,   2.285],\n",
       "       ...,\n",
       "       [379.988,   4.88 ,   5.085],\n",
       "       [379.992,   4.87 ,   5.085],\n",
       "       [379.996,   4.89 ,   5.115]])"
      ]
     },
     "execution_count": 41,
     "metadata": {},
     "output_type": "execute_result"
    }
   ],
   "source": [
    "import matplotlib.pyplot as plt\n",
    "import numpy as np\n",
    "import pandas as pd\n",
    "\n",
    "data = pd.read_csv(\"datasets/ecg_data.txt\", sep=\"\\t\")\n",
    "data = np.array(data)\n",
    "data"
   ]
  },
  {
   "cell_type": "code",
   "execution_count": 44,
   "id": "64d2bfbe-a7a2-47d5-b244-dddaacb8de68",
   "metadata": {},
   "outputs": [],
   "source": [
    "w = 10\n",
    "Xtr = data[:1000]  # 学習\n",
    "X_1 = data[1000:2000]  # テスト\n",
    "X_2 = data[2000:3000]"
   ]
  },
  {
   "cell_type": "code",
   "execution_count": 45,
   "id": "a852d2e5-7282-4b97-8097-844a085cd6d9",
   "metadata": {},
   "outputs": [],
   "source": [
    "Dtr = np.array([Xtr[i : i + w] for i in range(1001 - w)])  # window毎に切り出していく\n",
    "D_1 = np.array([X_1[i : i + w] for i in range(1001 - w)])\n",
    "D_2 = np.array([X_2[i : i + w] for i in range(1001 - w)])"
   ]
  },
  {
   "cell_type": "code",
   "execution_count": 48,
   "id": "1a139ecd-7975-450c-a169-32e7d99e8647",
   "metadata": {},
   "outputs": [
    {
     "data": {
      "text/plain": [
       "array([[[200.004,   4.82 ,   2.135],\n",
       "        [200.008,   4.805,   2.19 ],\n",
       "        [200.012,   4.75 ,   2.285],\n",
       "        ...,\n",
       "        [200.032,   4.68 ,   3.365],\n",
       "        [200.036,   4.685,   3.695],\n",
       "        [200.04 ,   4.675,   3.97 ]],\n",
       "\n",
       "       [[200.008,   4.805,   2.19 ],\n",
       "        [200.012,   4.75 ,   2.285],\n",
       "        [200.016,   4.71 ,   2.44 ],\n",
       "        ...,\n",
       "        [200.036,   4.685,   3.695],\n",
       "        [200.04 ,   4.675,   3.97 ],\n",
       "        [200.044,   4.67 ,   4.24 ]],\n",
       "\n",
       "       [[200.012,   4.75 ,   2.285],\n",
       "        [200.016,   4.71 ,   2.44 ],\n",
       "        [200.02 ,   4.695,   2.62 ],\n",
       "        ...,\n",
       "        [200.04 ,   4.675,   3.97 ],\n",
       "        [200.044,   4.67 ,   4.24 ],\n",
       "        [200.048,   4.67 ,   4.53 ]],\n",
       "\n",
       "       ...,\n",
       "\n",
       "       [[203.956,   4.785,   4.995],\n",
       "        [203.96 ,   4.79 ,   4.995],\n",
       "        [203.964,   4.79 ,   4.995],\n",
       "        ...,\n",
       "        [203.984,   4.765,   5.   ],\n",
       "        [203.988,   4.79 ,   4.995],\n",
       "        [203.992,   4.8  ,   4.98 ]],\n",
       "\n",
       "       [[203.96 ,   4.79 ,   4.995],\n",
       "        [203.964,   4.79 ,   4.995],\n",
       "        [203.968,   4.8  ,   5.005],\n",
       "        ...,\n",
       "        [203.988,   4.79 ,   4.995],\n",
       "        [203.992,   4.8  ,   4.98 ],\n",
       "        [203.996,   4.785,   4.98 ]],\n",
       "\n",
       "       [[203.964,   4.79 ,   4.995],\n",
       "        [203.968,   4.8  ,   5.005],\n",
       "        [203.972,   4.79 ,   4.995],\n",
       "        ...,\n",
       "        [203.992,   4.8  ,   4.98 ],\n",
       "        [203.996,   4.785,   4.98 ],\n",
       "        [204.   ,   4.785,   4.985]]])"
      ]
     },
     "execution_count": 48,
     "metadata": {},
     "output_type": "execute_result"
    }
   ],
   "source": [
    "Dtr"
   ]
  },
  {
   "cell_type": "code",
   "execution_count": 72,
   "id": "8c2dcac8-7308-4292-9381-e0448fced6d7",
   "metadata": {},
   "outputs": [],
   "source": [
    "U_test, sv_test, V_test = np.linalg.svd(Xtr)  # 特異値分解 (A)\n",
    "U_train_1, sv_train_1, V_train_1 = np.linalg.svd(X_1)  # 特異値分解 (B)\n",
    "U_train_2, sv_train_2, V_train_2 = np.linalg.svd(X_2)  # 特異値分解 (B)"
   ]
  },
  {
   "cell_type": "code",
   "execution_count": 58,
   "id": "0973aaa3-da9f-4a2d-8969-c4ff59147a6b",
   "metadata": {},
   "outputs": [
    {
     "data": {
      "text/plain": [
       "array([[-0.03129774,  0.08286629, -0.00784729, ..., -0.0324893 ,\n",
       "        -0.03258776, -0.0325824 ],\n",
       "       [-0.03129853,  0.08133112, -0.01041934, ...,  0.00862812,\n",
       "         0.01141927,  0.01144749],\n",
       "       [-0.03129933,  0.07864911, -0.02051762, ..., -0.00861848,\n",
       "        -0.00953427, -0.00940022],\n",
       "       ...,\n",
       "       [-0.0319326 ,  0.00678814, -0.01175078, ...,  0.99884317,\n",
       "        -0.0011945 , -0.00119367],\n",
       "       [-0.03193317,  0.00677627, -0.0146934 , ..., -0.00119054,\n",
       "         0.9987631 , -0.00123604],\n",
       "       [-0.03193382,  0.00664054, -0.01467895, ..., -0.00118979,\n",
       "        -0.00123609,  0.99876476]])"
      ]
     },
     "execution_count": 58,
     "metadata": {},
     "output_type": "execute_result"
    }
   ],
   "source": [
    "U_test"
   ]
  },
  {
   "cell_type": "code",
   "execution_count": 68,
   "id": "b9c53b94-b24f-4e20-a440-a291e86397b3",
   "metadata": {},
   "outputs": [
    {
     "data": {
      "text/plain": [
       "array([6.39187100e+03, 3.60723221e+01, 5.12639714e+00])"
      ]
     },
     "execution_count": 68,
     "metadata": {},
     "output_type": "execute_result"
    }
   ],
   "source": [
    "sv_test"
   ]
  },
  {
   "cell_type": "code",
   "execution_count": 60,
   "id": "ddd97426-858d-4e87-bd0a-2110485aae43",
   "metadata": {},
   "outputs": [],
   "source": [
    "r_test = 3\n",
    "r_train = 3"
   ]
  },
  {
   "cell_type": "code",
   "execution_count": 73,
   "id": "45d1f155-004b-47d1-a214-f2cad8e2f31d",
   "metadata": {},
   "outputs": [],
   "source": [
    "C_1 = V_train_1[:r_train, :] @ V_test[:r_test, :].T  # 行列の積 (C)\n",
    "C_2 = V_train_2[:r_train, :] @ V_test[:r_test, :].T  # 行列の積 (C)"
   ]
  },
  {
   "cell_type": "code",
   "execution_count": 62,
   "id": "496126a7-2519-461e-b657-24ea94d864a0",
   "metadata": {},
   "outputs": [
    {
     "data": {
      "text/plain": [
       "array([[-0.99940608, -0.02369667, -0.02501897],\n",
       "       [-0.0243079 , -0.02983427,  0.99925925],\n",
       "       [-0.02442554,  0.99927393,  0.02924054]])"
      ]
     },
     "execution_count": 62,
     "metadata": {},
     "output_type": "execute_result"
    }
   ],
   "source": [
    "V_train_1"
   ]
  },
  {
   "cell_type": "code",
   "execution_count": 32,
   "id": "c9693cf9-5aa0-4891-b738-ef28fb405f31",
   "metadata": {},
   "outputs": [
    {
     "data": {
      "text/plain": [
       "array([[-0.9994301 , -0.02355761, -0.02417663],\n",
       "       [-0.02348378, -0.02925677,  0.99929603],\n",
       "       [-0.02424836,  0.99929429,  0.02868688]])"
      ]
     },
     "execution_count": 32,
     "metadata": {},
     "output_type": "execute_result"
    }
   ],
   "source": [
    "V_train_2"
   ]
  },
  {
   "cell_type": "code",
   "execution_count": 67,
   "id": "e39020c9-f7f9-4fc3-a670-6ee6bb98dfd5",
   "metadata": {},
   "outputs": [
    {
     "data": {
      "text/plain": [
       "[<matplotlib.lines.Line2D at 0x7fb45cae1970>,\n",
       " <matplotlib.lines.Line2D at 0x7fb45cae19d0>,\n",
       " <matplotlib.lines.Line2D at 0x7fb45cb04ac0>]"
      ]
     },
     "execution_count": 67,
     "metadata": {},
     "output_type": "execute_result"
    },
    {
     "data": {
      "image/png": "[encoded data removed]",
      "text/plain": [
       "<Figure size 432x288 with 1 Axes>"
      ]
     },
     "metadata": {
      "needs_background": "light"
     },
     "output_type": "display_data"
    }
   ],
   "source": [
    "plt.plot(C_1)"
   ]
  },
  {
   "cell_type": "code",
   "execution_count": 63,
   "id": "ea7ae7a2-e2b0-4a6b-b360-34d28afc3c6b",
   "metadata": {},
   "outputs": [
    {
     "data": {
      "text/plain": [
       "[<matplotlib.lines.Line2D at 0x7fb4625e6220>,\n",
       " <matplotlib.lines.Line2D at 0x7fb4625e6fa0>,\n",
       " <matplotlib.lines.Line2D at 0x7fb45f08fd60>]"
      ]
     },
     "execution_count": 63,
     "metadata": {},
     "output_type": "execute_result"
    },
    {
     "data": {
      "image/png": "[encoded data removed]",
      "text/plain": [
       "<Figure size 432x288 with 1 Axes>"
      ]
     },
     "metadata": {
      "needs_background": "light"
     },
     "output_type": "display_data"
    }
   ],
   "source": [
    "plt.plot(C_2)"
   ]
  },
  {
   "cell_type": "code",
   "execution_count": 69,
   "id": "b8cf9bd5-754b-4d13-8719-f1149f560060",
   "metadata": {},
   "outputs": [],
   "source": [
    "normC_1 = np.linalg.norm(C_1, ord=2)\n",
    "normC_2 = np.linalg.norm(C_2, ord=2)"
   ]
  },
  {
   "cell_type": "code",
   "execution_count": 70,
   "id": "98b0898e-36d2-4dcc-a3c9-67f39d2556cf",
   "metadata": {},
   "outputs": [
    {
     "name": "stdout",
     "output_type": "stream",
     "text": [
      "-2.220446049250313e-16\n",
      "-2.220446049250313e-16\n"
     ]
    }
   ],
   "source": [
    "print(1 - normC_1)\n",
    "print(1 - normC_2)"
   ]
  },
  {
   "cell_type": "code",
   "execution_count": null,
   "id": "16b30a48-a8d2-491a-9559-2c8930aa855b",
   "metadata": {},
   "outputs": [],
   "source": []
  }
 ],
 "metadata": {
  "kernelspec": {
   "display_name": "Python 3 (ipykernel)",
   "language": "python",
   "name": "python3"
  },
  "language_info": {
   "codemirror_mode": {
    "name": "ipython",
    "version": 3
   },
   "file_extension": ".py",
   "mimetype": "text/x-python",
   "name": "python",
   "nbconvert_exporter": "python",
   "pygments_lexer": "ipython3",
   "version": "3.9.12"
  }
 },
 "nbformat": 4,
 "nbformat_minor": 5
}
