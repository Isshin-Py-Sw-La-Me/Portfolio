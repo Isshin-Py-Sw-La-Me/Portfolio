{
 "cells": [
  {
   "cell_type": "code",
   "execution_count": 1,
   "id": "f75ae422-4b51-4d64-9893-9a5d8a10b2a8",
   "metadata": {},
   "outputs": [],
   "source": [
    "import japanize_matplotlib\n",
    "import matplotlib.pyplot as plt\n",
    "import numpy as np\n",
    "from sklearn.datasets import make_regression\n",
    "from sklearn.linear_model import Lasso, LinearRegression, Ridge\n",
    "from sklearn.model_selection import cross_val_score\n",
    "from sklearn.pipeline import make_pipeline\n",
    "from sklearn.preprocessing import StandardScaler"
   ]
  },
  {
   "cell_type": "code",
   "execution_count": 3,
   "id": "d8d0c644-8911-4e21-849d-8f3cc1c16d91",
   "metadata": {},
   "outputs": [],
   "source": [
    "# 回帰データの作成\n",
    "# n_informative: 予測に必要な特徴量\n",
    "n_features = 5\n",
    "n_informative = 2\n",
    "X, y = make_regression(\n",
    "    n_samples=500,\n",
    "    n_features=n_features,\n",
    "    n_informative=n_informative,\n",
    "    noise=0.5,\n",
    "    random_state=777,\n",
    ")"
   ]
  },
  {
   "cell_type": "code",
   "execution_count": 10,
   "id": "6701db10-c218-4d7c-95ef-6a24ac3ec4f4",
   "metadata": {},
   "outputs": [],
   "source": [
    "X = np.concatenate([X, np.log(X + 100)], 1)  # 冗長な特徴量を追加する"
   ]
  },
  {
   "cell_type": "code",
   "execution_count": 11,
   "id": "85ee22fe-16d5-4cbb-818a-39c35d90a126",
   "metadata": {},
   "outputs": [],
   "source": [
    "y_mean = y.mean(keepdims=True)\n",
    "y_std = np.std(y, keepdims=True)"
   ]
  },
  {
   "cell_type": "code",
   "execution_count": 12,
   "id": "03f5e94c-bdbd-4537-8810-12ff53b272a6",
   "metadata": {},
   "outputs": [],
   "source": [
    "# 正規化\n",
    "y = (y - y_mean) / y_std"
   ]
  },
  {
   "cell_type": "code",
   "execution_count": 13,
   "id": "6ca9ea24-4a37-4ef8-97b6-8b208b593732",
   "metadata": {},
   "outputs": [],
   "source": [
    "lin_r = make_pipeline(StandardScaler(with_mean=False), LinearRegression()).fit(X, y)\n",
    "rid_r = make_pipeline(StandardScaler(with_mean=False), Ridge(alpha=2)).fit(X, y)\n",
    "las_r = make_pipeline(StandardScaler(with_mean=False), Lasso(alpha=0.1)).fit(X, y)"
   ]
  },
  {
   "cell_type": "code",
   "execution_count": 14,
   "id": "030180bf-705e-4bea-b087-9a3cfb613cee",
   "metadata": {},
   "outputs": [
    {
     "data": {
      "text/plain": [
       "<matplotlib.legend.Legend at 0x7f8f647a5dc0>"
      ]
     },
     "execution_count": 14,
     "metadata": {},
     "output_type": "execute_result"
    },
    {
     "data": {
      "image/png": "[encoded data removed]",
      "text/plain": [
       "<Figure size 864x288 with 1 Axes>"
      ]
     },
     "metadata": {
      "needs_background": "light"
     },
     "output_type": "display_data"
    }
   ],
   "source": [
    "feat_index = np.array([i for i in range(X.shape[1])])\n",
    "\n",
    "plt.figure(figsize=(12, 4))\n",
    "plt.bar(\n",
    "    feat_index - 0.2,\n",
    "    np.abs(lin_r.steps[1][1].coef_),\n",
    "    width=0.2,\n",
    "    label=\"LinearRegression\",\n",
    ")\n",
    "plt.bar(feat_index, np.abs(rid_r.steps[1][1].coef_), width=0.2, label=\"RidgeRegression\")\n",
    "plt.bar(\n",
    "    feat_index + 0.2,\n",
    "    np.abs(las_r.steps[1][1].coef_),\n",
    "    width=0.2,\n",
    "    label=\"LassoRegression\",\n",
    ")\n",
    "\n",
    "plt.xlabel(r\"$\\beta$のインデックス\")\n",
    "plt.ylabel(r\"$|\\beta|$\")\n",
    "plt.grid()\n",
    "plt.legend()"
   ]
  },
  {
   "cell_type": "code",
   "execution_count": null,
   "id": "32eb5ab8-0d5f-40f1-8116-22326c25194e",
   "metadata": {},
   "outputs": [],
   "source": []
  }
 ],
 "metadata": {
  "kernelspec": {
   "display_name": "Python 3 (ipykernel)",
   "language": "python",
   "name": "python3"
  },
  "language_info": {
   "codemirror_mode": {
    "name": "ipython",
    "version": 3
   },
   "file_extension": ".py",
   "mimetype": "text/x-python",
   "name": "python",
   "nbconvert_exporter": "python",
   "pygments_lexer": "ipython3",
   "version": "3.9.12"
  }
 },
 "nbformat": 4,
 "nbformat_minor": 5
}
