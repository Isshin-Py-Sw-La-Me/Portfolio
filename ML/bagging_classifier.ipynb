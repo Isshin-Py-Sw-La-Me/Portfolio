{
 "cells": [
  {
   "cell_type": "code",
   "execution_count": 4,
   "id": "f224c52a-424a-428c-802e-12ff4059ca5e",
   "metadata": {},
   "outputs": [],
   "source": [
    "import pandas as pd\n",
    "from sklearn.datasets import load_breast_cancer\n",
    "from sklearn.ensemble import BaggingClassifier\n",
    "from sklearn.model_selection import train_test_split\n",
    "from sklearn.tree import DecisionTreeClassifier"
   ]
  },
  {
   "cell_type": "code",
   "execution_count": 5,
   "id": "070d32f9-9948-4924-8650-9ec80b9818ec",
   "metadata": {},
   "outputs": [],
   "source": [
    "loaded_data = load_breast_cancer()\n",
    "X_train, X_test, y_train, y_test = train_test_split(\n",
    "    loaded_data.data, loaded_data.target, random_state=0\n",
    ")"
   ]
  },
  {
   "cell_type": "markdown",
   "id": "300b5c3d-6350-44ce-b850-f2698d28caa8",
   "metadata": {},
   "source": [
    "分類問題であればBaggingClassifierを、回帰問題であればBaggingRegressorを使用します。n_estimatorsが作成するデータセットの数＝モデルの数で、max_samplesは抽出する際のデータ数の上限、max_featuresは抽出する際の特徴量の数の上限を指定できます。"
   ]
  },
  {
   "cell_type": "code",
   "execution_count": 6,
   "id": "1b4c0e75-5394-47c3-a329-f0a7061cc6e8",
   "metadata": {},
   "outputs": [],
   "source": [
    "models = {\n",
    "    \"not bagging\": DecisionTreeClassifier(random_state=0),\n",
    "    \"bagging\": BaggingClassifier(\n",
    "        DecisionTreeClassifier(random_state=0), n_estimators=100, random_state=0\n",
    "    ),\n",
    "}"
   ]
  },
  {
   "cell_type": "code",
   "execution_count": 7,
   "id": "ac04858b-390b-47c5-902f-7813c64bf808",
   "metadata": {},
   "outputs": [],
   "source": [
    "scores = {}\n",
    "for model_name, model in models.items():\n",
    "    model.fit(X_train, y_train)\n",
    "    scores[(model_name, 'train_score')] = model.score(X_train, y_train)\n",
    "    scores[(model_name, 'test_score')] = model.score(X_test, y_test)"
   ]
  },
  {
   "cell_type": "code",
   "execution_count": 8,
   "id": "07251e3a-979e-4945-8bd6-fba5cc263428",
   "metadata": {},
   "outputs": [
    {
     "data": {
      "text/html": [
       "<div>\n",
       "<style scoped>\n",
       "    .dataframe tbody tr th:only-of-type {\n",
       "        vertical-align: middle;\n",
       "    }\n",
       "\n",
       "    .dataframe tbody tr th {\n",
       "        vertical-align: top;\n",
       "    }\n",
       "\n",
       "    .dataframe thead th {\n",
       "        text-align: right;\n",
       "    }\n",
       "</style>\n",
       "<table border=\"1\" class=\"dataframe\">\n",
       "  <thead>\n",
       "    <tr style=\"text-align: right;\">\n",
       "      <th></th>\n",
       "      <th>test_score</th>\n",
       "      <th>train_score</th>\n",
       "    </tr>\n",
       "  </thead>\n",
       "  <tbody>\n",
       "    <tr>\n",
       "      <th>bagging</th>\n",
       "      <td>0.986014</td>\n",
       "      <td>1.0</td>\n",
       "    </tr>\n",
       "    <tr>\n",
       "      <th>not bagging</th>\n",
       "      <td>0.881119</td>\n",
       "      <td>1.0</td>\n",
       "    </tr>\n",
       "  </tbody>\n",
       "</table>\n",
       "</div>"
      ],
      "text/plain": [
       "             test_score  train_score\n",
       "bagging        0.986014          1.0\n",
       "not bagging    0.881119          1.0"
      ]
     },
     "execution_count": 8,
     "metadata": {},
     "output_type": "execute_result"
    }
   ],
   "source": [
    "pd.Series(scores).unstack()"
   ]
  },
  {
   "cell_type": "code",
   "execution_count": null,
   "id": "c97c6f69-aec4-4eaa-a272-5489eefa8fd9",
   "metadata": {},
   "outputs": [],
   "source": []
  }
 ],
 "metadata": {
  "kernelspec": {
   "display_name": "Python 3 (ipykernel)",
   "language": "python",
   "name": "python3"
  },
  "language_info": {
   "codemirror_mode": {
    "name": "ipython",
    "version": 3
   },
   "file_extension": ".py",
   "mimetype": "text/x-python",
   "name": "python",
   "nbconvert_exporter": "python",
   "pygments_lexer": "ipython3",
   "version": "3.9.12"
  }
 },
 "nbformat": 4,
 "nbformat_minor": 5
}
