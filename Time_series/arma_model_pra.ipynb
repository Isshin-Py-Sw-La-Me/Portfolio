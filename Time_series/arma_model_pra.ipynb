{
 "cells": [
  {
   "cell_type": "code",
   "execution_count": 1,
   "id": "8f0f04a3-8500-4600-93d2-b086090c9529",
   "metadata": {},
   "outputs": [],
   "source": [
    "import matplotlib.pyplot as plt\n",
    "import numpy as np\n",
    "import pandas as pd\n",
    "import pandas_datareader.data as pdr\n",
    "import statsmodels.api as sm\n",
    "from sklearn.linear_model import LinearRegression"
   ]
  },
  {
   "cell_type": "code",
   "execution_count": 2,
   "id": "933efa1f-3480-41fc-a99d-f52f7db3c966",
   "metadata": {},
   "outputs": [],
   "source": [
    "df = pd.read_csv(\"datasets/hamamatsu_temp.csv\")\n",
    "df[\"date\"] = pd.to_datetime(df[\"date\"])\n",
    "df = df.set_index(\"date\")"
   ]
  },
  {
   "cell_type": "code",
   "execution_count": 3,
   "id": "e84b3151-bd38-4ebc-a4d3-a219a552db2c",
   "metadata": {},
   "outputs": [
    {
     "data": {
      "text/html": [
       "<div>\n",
       "<style scoped>\n",
       "    .dataframe tbody tr th:only-of-type {\n",
       "        vertical-align: middle;\n",
       "    }\n",
       "\n",
       "    .dataframe tbody tr th {\n",
       "        vertical-align: top;\n",
       "    }\n",
       "\n",
       "    .dataframe thead th {\n",
       "        text-align: right;\n",
       "    }\n",
       "</style>\n",
       "<table border=\"1\" class=\"dataframe\">\n",
       "  <thead>\n",
       "    <tr style=\"text-align: right;\">\n",
       "      <th></th>\n",
       "      <th>temp</th>\n",
       "    </tr>\n",
       "    <tr>\n",
       "      <th>date</th>\n",
       "      <th></th>\n",
       "    </tr>\n",
       "  </thead>\n",
       "  <tbody>\n",
       "    <tr>\n",
       "      <th>2000-01-01</th>\n",
       "      <td>9.0</td>\n",
       "    </tr>\n",
       "    <tr>\n",
       "      <th>2000-01-02</th>\n",
       "      <td>9.1</td>\n",
       "    </tr>\n",
       "    <tr>\n",
       "      <th>2000-01-03</th>\n",
       "      <td>10.2</td>\n",
       "    </tr>\n",
       "    <tr>\n",
       "      <th>2000-01-04</th>\n",
       "      <td>9.7</td>\n",
       "    </tr>\n",
       "    <tr>\n",
       "      <th>2000-01-05</th>\n",
       "      <td>9.1</td>\n",
       "    </tr>\n",
       "    <tr>\n",
       "      <th>...</th>\n",
       "      <td>...</td>\n",
       "    </tr>\n",
       "    <tr>\n",
       "      <th>2022-10-22</th>\n",
       "      <td>19.9</td>\n",
       "    </tr>\n",
       "    <tr>\n",
       "      <th>2022-10-23</th>\n",
       "      <td>20.1</td>\n",
       "    </tr>\n",
       "    <tr>\n",
       "      <th>2022-10-24</th>\n",
       "      <td>17.7</td>\n",
       "    </tr>\n",
       "    <tr>\n",
       "      <th>2022-10-25</th>\n",
       "      <td>13.3</td>\n",
       "    </tr>\n",
       "    <tr>\n",
       "      <th>2022-10-26</th>\n",
       "      <td>13.8</td>\n",
       "    </tr>\n",
       "  </tbody>\n",
       "</table>\n",
       "<p>8335 rows × 1 columns</p>\n",
       "</div>"
      ],
      "text/plain": [
       "            temp\n",
       "date            \n",
       "2000-01-01   9.0\n",
       "2000-01-02   9.1\n",
       "2000-01-03  10.2\n",
       "2000-01-04   9.7\n",
       "2000-01-05   9.1\n",
       "...          ...\n",
       "2022-10-22  19.9\n",
       "2022-10-23  20.1\n",
       "2022-10-24  17.7\n",
       "2022-10-25  13.3\n",
       "2022-10-26  13.8\n",
       "\n",
       "[8335 rows x 1 columns]"
      ]
     },
     "execution_count": 3,
     "metadata": {},
     "output_type": "execute_result"
    }
   ],
   "source": [
    "df"
   ]
  },
  {
   "cell_type": "code",
   "execution_count": 4,
   "id": "c1568625-6063-4608-9f30-cae6dc6a0590",
   "metadata": {},
   "outputs": [],
   "source": [
    "df_month = df[\"2000\":\"2022\"].resample(\"M\").mean()"
   ]
  },
  {
   "cell_type": "code",
   "execution_count": 5,
   "id": "b292d7ea-b4c1-46a3-b1d8-04379d30d1da",
   "metadata": {},
   "outputs": [],
   "source": [
    "train = df_month[\"2000\":\"2020\"]\n",
    "test = df_month[\"2020\":]"
   ]
  },
  {
   "cell_type": "code",
   "execution_count": 23,
   "id": "9bc70e04-7bd2-419f-8d0f-e5302118297a",
   "metadata": {},
   "outputs": [],
   "source": [
    "from statsmodels.tsa.arima.model import ARIMA"
   ]
  },
  {
   "cell_type": "code",
   "execution_count": 30,
   "id": "05d62b65-d200-4041-9d62-c2301ba99ea3",
   "metadata": {},
   "outputs": [],
   "source": [
    "model_arima = ARIMA(train, order=(12, 1, 12))"
   ]
  },
  {
   "cell_type": "code",
   "execution_count": 31,
   "id": "72767315-c92e-4400-8045-0e437365a9bf",
   "metadata": {},
   "outputs": [
    {
     "name": "stderr",
     "output_type": "stream",
     "text": [
      "/Users/isshintoyonaga/.anyenv/envs/pyenv/versions/anaconda3-2022.05/lib/python3.9/site-packages/statsmodels/tsa/statespace/sarimax.py:978: UserWarning: Non-invertible starting MA parameters found. Using zeros as starting parameters.\n",
      "  warn('Non-invertible starting MA parameters found.'\n",
      "/Users/isshintoyonaga/.anyenv/envs/pyenv/versions/anaconda3-2022.05/lib/python3.9/site-packages/statsmodels/base/model.py:604: ConvergenceWarning: Maximum Likelihood optimization failed to converge. Check mle_retvals\n",
      "  warnings.warn(\"Maximum Likelihood optimization failed to \"\n"
     ]
    }
   ],
   "source": [
    "result_arima = model_arima.fit()"
   ]
  },
  {
   "cell_type": "code",
   "execution_count": 33,
   "id": "bf09ad16-4b27-4cda-906b-36c320fbc227",
   "metadata": {},
   "outputs": [
    {
     "name": "stdout",
     "output_type": "stream",
     "text": [
      "                               SARIMAX Results                                \n",
      "==============================================================================\n",
      "Dep. Variable:                   temp   No. Observations:                  252\n",
      "Model:               ARIMA(12, 1, 12)   Log Likelihood                -369.919\n",
      "Date:                Fri, 28 Oct 2022   AIC                            789.838\n",
      "Time:                        00:48:20   BIC                            877.974\n",
      "Sample:                    01-31-2000   HQIC                           825.306\n",
      "                         - 12-31-2020                                         \n",
      "Covariance Type:                  opg                                         \n",
      "==============================================================================\n",
      "                 coef    std err          z      P>|z|      [0.025      0.975]\n",
      "------------------------------------------------------------------------------\n",
      "ar.L1         -0.3869      0.358     -1.081      0.280      -1.089       0.315\n",
      "ar.L2         -0.4802      0.276     -1.740      0.082      -1.021       0.061\n",
      "ar.L3         -0.5236      0.352     -1.488      0.137      -1.213       0.166\n",
      "ar.L4         -0.3744      0.298     -1.255      0.210      -0.959       0.210\n",
      "ar.L5         -0.6301      0.239     -2.640      0.008      -1.098      -0.162\n",
      "ar.L6         -0.3739      0.282     -1.327      0.185      -0.926       0.178\n",
      "ar.L7         -0.4983      0.168     -2.968      0.003      -0.827      -0.169\n",
      "ar.L8         -0.5051      0.247     -2.045      0.041      -0.989      -0.021\n",
      "ar.L9         -0.4557      0.254     -1.794      0.073      -0.954       0.042\n",
      "ar.L10        -0.5269      0.208     -2.535      0.011      -0.934      -0.120\n",
      "ar.L11        -0.3482      0.291     -1.198      0.231      -0.918       0.222\n",
      "ar.L12         0.3463      0.122      2.829      0.005       0.106       0.586\n",
      "ma.L1         -0.3084      0.359     -0.858      0.391      -1.013       0.396\n",
      "ma.L2         -0.0170      0.455     -0.037      0.970      -0.909       0.875\n",
      "ma.L3          0.0505      0.475      0.106      0.915      -0.880       0.981\n",
      "ma.L4         -0.1335      0.422     -0.316      0.752      -0.961       0.694\n",
      "ma.L5          0.1784      0.358      0.498      0.619      -0.524       0.881\n",
      "ma.L6         -0.2405      0.293     -0.820      0.412      -0.815       0.334\n",
      "ma.L7          0.1101      0.280      0.393      0.694      -0.439       0.659\n",
      "ma.L8          0.0015      0.292      0.005      0.996      -0.570       0.573\n",
      "ma.L9          0.0432      0.313      0.138      0.890      -0.571       0.657\n",
      "ma.L10         0.0396      0.311      0.128      0.898      -0.569       0.648\n",
      "ma.L11        -0.0625      0.295     -0.211      0.833      -0.641       0.517\n",
      "ma.L12        -0.5864      0.259     -2.267      0.023      -1.093      -0.079\n",
      "sigma2         1.0804      0.119      9.097      0.000       0.848       1.313\n",
      "===================================================================================\n",
      "Ljung-Box (L1) (Q):                   0.05   Jarque-Bera (JB):                 0.66\n",
      "Prob(Q):                              0.83   Prob(JB):                         0.72\n",
      "Heteroskedasticity (H):               0.92   Skew:                            -0.06\n",
      "Prob(H) (two-sided):                  0.70   Kurtosis:                         3.22\n",
      "===================================================================================\n",
      "\n",
      "Warnings:\n",
      "[1] Covariance matrix calculated using the outer product of gradients (complex-step).\n"
     ]
    }
   ],
   "source": [
    "print(result_arima.summary())"
   ]
  },
  {
   "cell_type": "code",
   "execution_count": 34,
   "id": "45881662-a793-420b-8583-3f1f46a25318",
   "metadata": {},
   "outputs": [],
   "source": [
    "prediction_arima = result_arima.predict(start=len(train), end=len(df_month))"
   ]
  },
  {
   "cell_type": "code",
   "execution_count": 35,
   "id": "d11feb9f-7405-4e18-957a-4a5a7d74de4f",
   "metadata": {},
   "outputs": [
    {
     "data": {
      "image/png": "[encoded data removed]",
      "text/plain": [
       "<Figure size 432x288 with 1 Axes>"
      ]
     },
     "metadata": {
      "needs_background": "light"
     },
     "output_type": "display_data"
    }
   ],
   "source": [
    "plt.plot(test)\n",
    "plt.plot(prediction_arima)\n",
    "plt.show()"
   ]
  },
  {
   "cell_type": "markdown",
   "id": "cae5dd60-dcd2-4779-9070-3ddd0df0c24d",
   "metadata": {},
   "source": [
    "<p>\n",
    "    ↑うまくできていない... パラメータを調整しよう<br>\n",
    "    ARIMAパラメータ設定には赤池情報量基準(AIC)を用いる<br>\n",
    "    AICは総当たりで最適なパラメータを設定する。\n",
    "</p>"
   ]
  },
  {
   "cell_type": "code",
   "execution_count": 36,
   "id": "a69908bc-62c6-499a-8984-5eba210c900a",
   "metadata": {},
   "outputs": [
    {
     "name": "stdout",
     "output_type": "stream",
     "text": [
      "4 0 1 896.0668440610139\n"
     ]
    },
    {
     "name": "stderr",
     "output_type": "stream",
     "text": [
      "/Users/isshintoyonaga/.anyenv/envs/pyenv/versions/anaconda3-2022.05/lib/python3.9/site-packages/statsmodels/base/model.py:604: ConvergenceWarning: Maximum Likelihood optimization failed to converge. Check mle_retvals\n",
      "  warnings.warn(\"Maximum Likelihood optimization failed to \"\n"
     ]
    },
    {
     "name": "stdout",
     "output_type": "stream",
     "text": [
      "4 0 2 816.4796817349202\n",
      "4 1 1 941.2139665893552\n"
     ]
    },
    {
     "name": "stderr",
     "output_type": "stream",
     "text": [
      "/Users/isshintoyonaga/.anyenv/envs/pyenv/versions/anaconda3-2022.05/lib/python3.9/site-packages/statsmodels/tsa/statespace/sarimax.py:978: UserWarning: Non-invertible starting MA parameters found. Using zeros as starting parameters.\n",
      "  warn('Non-invertible starting MA parameters found.'\n"
     ]
    },
    {
     "name": "stdout",
     "output_type": "stream",
     "text": [
      "4 1 2 884.8637485104015\n",
      "4 2 1 1099.4054225154036\n"
     ]
    },
    {
     "name": "stderr",
     "output_type": "stream",
     "text": [
      "/Users/isshintoyonaga/.anyenv/envs/pyenv/versions/anaconda3-2022.05/lib/python3.9/site-packages/statsmodels/tsa/statespace/sarimax.py:966: UserWarning: Non-stationary starting autoregressive parameters found. Using zeros as starting parameters.\n",
      "  warn('Non-stationary starting autoregressive parameters'\n",
      "/Users/isshintoyonaga/.anyenv/envs/pyenv/versions/anaconda3-2022.05/lib/python3.9/site-packages/statsmodels/tsa/statespace/sarimax.py:978: UserWarning: Non-invertible starting MA parameters found. Using zeros as starting parameters.\n",
      "  warn('Non-invertible starting MA parameters found.'\n",
      "/Users/isshintoyonaga/.anyenv/envs/pyenv/versions/anaconda3-2022.05/lib/python3.9/site-packages/statsmodels/base/model.py:604: ConvergenceWarning: Maximum Likelihood optimization failed to converge. Check mle_retvals\n",
      "  warnings.warn(\"Maximum Likelihood optimization failed to \"\n"
     ]
    },
    {
     "name": "stdout",
     "output_type": "stream",
     "text": [
      "4 2 2 948.2333024638111\n",
      "5 0 1 893.277703242682\n"
     ]
    },
    {
     "name": "stderr",
     "output_type": "stream",
     "text": [
      "/Users/isshintoyonaga/.anyenv/envs/pyenv/versions/anaconda3-2022.05/lib/python3.9/site-packages/statsmodels/base/model.py:604: ConvergenceWarning: Maximum Likelihood optimization failed to converge. Check mle_retvals\n",
      "  warnings.warn(\"Maximum Likelihood optimization failed to \"\n"
     ]
    },
    {
     "name": "stdout",
     "output_type": "stream",
     "text": [
      "5 0 2 897.7228829931837\n",
      "5 1 1 919.180126855633\n",
      "5 1 2 943.6868113070041\n"
     ]
    },
    {
     "name": "stderr",
     "output_type": "stream",
     "text": [
      "/Users/isshintoyonaga/.anyenv/envs/pyenv/versions/anaconda3-2022.05/lib/python3.9/site-packages/statsmodels/base/model.py:604: ConvergenceWarning: Maximum Likelihood optimization failed to converge. Check mle_retvals\n",
      "  warnings.warn(\"Maximum Likelihood optimization failed to \"\n",
      "/Users/isshintoyonaga/.anyenv/envs/pyenv/versions/anaconda3-2022.05/lib/python3.9/site-packages/statsmodels/tsa/statespace/sarimax.py:966: UserWarning: Non-stationary starting autoregressive parameters found. Using zeros as starting parameters.\n",
      "  warn('Non-stationary starting autoregressive parameters'\n",
      "/Users/isshintoyonaga/.anyenv/envs/pyenv/versions/anaconda3-2022.05/lib/python3.9/site-packages/statsmodels/tsa/statespace/sarimax.py:978: UserWarning: Non-invertible starting MA parameters found. Using zeros as starting parameters.\n",
      "  warn('Non-invertible starting MA parameters found.'\n"
     ]
    },
    {
     "name": "stdout",
     "output_type": "stream",
     "text": [
      "5 2 1 1060.2924362993463\n"
     ]
    },
    {
     "name": "stderr",
     "output_type": "stream",
     "text": [
      "/Users/isshintoyonaga/.anyenv/envs/pyenv/versions/anaconda3-2022.05/lib/python3.9/site-packages/statsmodels/base/model.py:604: ConvergenceWarning: Maximum Likelihood optimization failed to converge. Check mle_retvals\n",
      "  warnings.warn(\"Maximum Likelihood optimization failed to \"\n"
     ]
    },
    {
     "name": "stdout",
     "output_type": "stream",
     "text": [
      "5 2 2 927.5594545454303\n",
      "6 0 1 887.511061605384\n"
     ]
    },
    {
     "name": "stderr",
     "output_type": "stream",
     "text": [
      "/Users/isshintoyonaga/.anyenv/envs/pyenv/versions/anaconda3-2022.05/lib/python3.9/site-packages/statsmodels/base/model.py:604: ConvergenceWarning: Maximum Likelihood optimization failed to converge. Check mle_retvals\n",
      "  warnings.warn(\"Maximum Likelihood optimization failed to \"\n"
     ]
    },
    {
     "name": "stdout",
     "output_type": "stream",
     "text": [
      "6 0 2 892.5098276644151\n",
      "6 1 1 897.4309049929534\n"
     ]
    },
    {
     "name": "stderr",
     "output_type": "stream",
     "text": [
      "/Users/isshintoyonaga/.anyenv/envs/pyenv/versions/anaconda3-2022.05/lib/python3.9/site-packages/statsmodels/base/model.py:604: ConvergenceWarning: Maximum Likelihood optimization failed to converge. Check mle_retvals\n",
      "  warnings.warn(\"Maximum Likelihood optimization failed to \"\n"
     ]
    },
    {
     "name": "stdout",
     "output_type": "stream",
     "text": [
      "6 1 2 913.198640852869\n"
     ]
    },
    {
     "name": "stderr",
     "output_type": "stream",
     "text": [
      "/Users/isshintoyonaga/.anyenv/envs/pyenv/versions/anaconda3-2022.05/lib/python3.9/site-packages/statsmodels/base/model.py:604: ConvergenceWarning: Maximum Likelihood optimization failed to converge. Check mle_retvals\n",
      "  warnings.warn(\"Maximum Likelihood optimization failed to \"\n"
     ]
    },
    {
     "name": "stdout",
     "output_type": "stream",
     "text": [
      "6 2 1 1029.8371783176053\n",
      "6 2 2 909.015376731801\n"
     ]
    },
    {
     "name": "stderr",
     "output_type": "stream",
     "text": [
      "/Users/isshintoyonaga/.anyenv/envs/pyenv/versions/anaconda3-2022.05/lib/python3.9/site-packages/statsmodels/base/model.py:604: ConvergenceWarning: Maximum Likelihood optimization failed to converge. Check mle_retvals\n",
      "  warnings.warn(\"Maximum Likelihood optimization failed to \"\n"
     ]
    }
   ],
   "source": [
    "# モデルの優劣の判定にAICという基準を使う\n",
    "min_aic = 99999999\n",
    "\n",
    "# 最もAICがよかった（小さかった）p,d,qを格納する\n",
    "min_pdq = []\n",
    "\n",
    "for p in range(4, 7):\n",
    "    for d in range(0, 3):\n",
    "        for q in range(1, 3):\n",
    "            model_arima = ARIMA(train, order=[p, d, q])\n",
    "            try:\n",
    "                result_arima = model_arima.fit()\n",
    "            except:\n",
    "                print(p, d, q, \"では収束しませんでした\")\n",
    "                continue\n",
    "            result_arima_aic = result_arima.aic\n",
    "            print(p, d, q, result_arima_aic)\n",
    "            if result_arima_aic < min_aic:\n",
    "                min_aic = result_arima_aic\n",
    "                min_pdq = [p, d, q]"
   ]
  },
  {
   "cell_type": "code",
   "execution_count": 37,
   "id": "67a42d07-6610-472a-99fb-5e7f9bddf082",
   "metadata": {},
   "outputs": [
    {
     "data": {
      "text/plain": [
       "[4, 0, 2]"
      ]
     },
     "execution_count": 37,
     "metadata": {},
     "output_type": "execute_result"
    }
   ],
   "source": [
    "min_pdq"
   ]
  },
  {
   "cell_type": "code",
   "execution_count": 41,
   "id": "a54cde9a-9281-4785-af48-fe6d4e2af4a6",
   "metadata": {},
   "outputs": [
    {
     "name": "stdout",
     "output_type": "stream",
     "text": [
      "                               SARIMAX Results                                \n",
      "==============================================================================\n",
      "Dep. Variable:                   temp   No. Observations:                  252\n",
      "Model:                 ARIMA(4, 0, 2)   Log Likelihood                -400.240\n",
      "Date:                Fri, 28 Oct 2022   AIC                            816.480\n",
      "Time:                        00:55:31   BIC                            844.715\n",
      "Sample:                    01-31-2000   HQIC                           827.841\n",
      "                         - 12-31-2020                                         \n",
      "Covariance Type:                  opg                                         \n",
      "==============================================================================\n",
      "                 coef    std err          z      P>|z|      [0.025      0.975]\n",
      "------------------------------------------------------------------------------\n",
      "const         16.6780      0.094    177.779      0.000      16.494      16.862\n",
      "ar.L1          2.1578      0.073     29.748      0.000       2.016       2.300\n",
      "ar.L2         -1.9119      0.160    -11.924      0.000      -2.226      -1.598\n",
      "ar.L3          0.7278      0.162      4.496      0.000       0.411       1.045\n",
      "ar.L4         -0.1742      0.074     -2.347      0.019      -0.320      -0.029\n",
      "ma.L1         -1.7510      0.108    -16.200      0.000      -1.963      -1.539\n",
      "ma.L2          0.9939      0.122      8.166      0.000       0.755       1.232\n",
      "sigma2         1.3549      0.197      6.862      0.000       0.968       1.742\n",
      "===================================================================================\n",
      "Ljung-Box (L1) (Q):                   0.13   Jarque-Bera (JB):                 0.23\n",
      "Prob(Q):                              0.72   Prob(JB):                         0.89\n",
      "Heteroskedasticity (H):               1.02   Skew:                            -0.04\n",
      "Prob(H) (two-sided):                  0.92   Kurtosis:                         3.13\n",
      "===================================================================================\n",
      "\n",
      "Warnings:\n",
      "[1] Covariance matrix calculated using the outer product of gradients (complex-step).\n"
     ]
    },
    {
     "name": "stderr",
     "output_type": "stream",
     "text": [
      "/Users/isshintoyonaga/.anyenv/envs/pyenv/versions/anaconda3-2022.05/lib/python3.9/site-packages/statsmodels/base/model.py:604: ConvergenceWarning: Maximum Likelihood optimization failed to converge. Check mle_retvals\n",
      "  warnings.warn(\"Maximum Likelihood optimization failed to \"\n"
     ]
    }
   ],
   "source": [
    "model_arima = ARIMA(train, order=(4, 0, 2))\n",
    "result_arima = model_arima.fit()\n",
    "print(result_arima.summary())"
   ]
  },
  {
   "cell_type": "code",
   "execution_count": 39,
   "id": "8579eff9-0891-4cc8-b45c-6f11777e95a1",
   "metadata": {},
   "outputs": [],
   "source": [
    "prediction_arima = result_arima.predict(start=len(train), end=len(df_month))"
   ]
  },
  {
   "cell_type": "code",
   "execution_count": 40,
   "id": "424876aa-7676-42d9-8331-1b5e1036a7df",
   "metadata": {},
   "outputs": [
    {
     "data": {
      "image/png": "[encoded data removed]",
      "text/plain": [
       "<Figure size 432x288 with 1 Axes>"
      ]
     },
     "metadata": {
      "needs_background": "light"
     },
     "output_type": "display_data"
    }
   ],
   "source": [
    "plt.plot(test)\n",
    "plt.plot(prediction_arima)\n",
    "plt.show()"
   ]
  },
  {
   "cell_type": "code",
   "execution_count": null,
   "id": "b92a4672-bdc1-4790-adc6-6fe53409a218",
   "metadata": {},
   "outputs": [],
   "source": []
  }
 ],
 "metadata": {
  "kernelspec": {
   "display_name": "Python 3 (ipykernel)",
   "language": "python",
   "name": "python3"
  },
  "language_info": {
   "codemirror_mode": {
    "name": "ipython",
    "version": 3
   },
   "file_extension": ".py",
   "mimetype": "text/x-python",
   "name": "python",
   "nbconvert_exporter": "python",
   "pygments_lexer": "ipython3",
   "version": "3.9.12"
  }
 },
 "nbformat": 4,
 "nbformat_minor": 5
}
