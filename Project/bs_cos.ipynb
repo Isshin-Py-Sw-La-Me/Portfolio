{
 "cells": [
  {
   "cell_type": "code",
   "execution_count": 1,
   "id": "e595619d-ec88-4cea-83a1-09e524d71213",
   "metadata": {},
   "outputs": [],
   "source": [
    "# Import components\n",
    "import datetime as dt\n",
    "import math\n",
    "import warnings\n",
    "\n",
    "import matplotlib.pyplot as plt\n",
    "import numpy as np\n",
    "import pandas as pd\n",
    "import pmdarima as pm\n",
    "import seaborn as sns\n",
    "from matplotlib import pyplot as pltw\n",
    "from pmdarima import arima, datasets, model_selection, utils\n",
    "from scipy import spatial\n",
    "from scipy.spatial import distance\n",
    "from sklearn import metrics\n",
    "from sklearn.metrics import mean_absolute_error\n",
    "from sklearn.neighbors import LocalOutlierFactor\n",
    "from statsmodels.tsa.seasonal import STL\n",
    "\n",
    "warnings.simplefilter(\"ignore\")\n",
    "\n",
    "plt.rcParams[\"font.family\"] = \"Hiragino Maru Gothic Pro\"\n",
    "plt.style.use(\"ggplot\")  # グラフのスタイル\n",
    "plt.rcParams[\"figure.figsize\"] = [12, 9]  # グラフサイズ設定"
   ]
  },
  {
   "cell_type": "code",
   "execution_count": 2,
   "id": "4987ae3c-2d90-44f2-b468-03b9dfa03484",
   "metadata": {},
   "outputs": [],
   "source": [
    "df = pd.read_csv(\"../datasets/fixed_battery_log_2_copy.csv\")\n",
    "df[\"date\"] = pd.to_datetime(df[\"date\"])\n",
    "users = df[\"User\"].unique()"
   ]
  },
  {
   "cell_type": "code",
   "execution_count": 4,
   "id": "81c8b57f-19a4-42af-9945-d79652b87376",
   "metadata": {},
   "outputs": [],
   "source": [
    "def cos_sim(v1, v2):\n",
    "    if np.isnan(np.dot(v1, v2) / (np.linalg.norm(v1) * np.linalg.norm(v2))):\n",
    "        return 0\n",
    "    else:\n",
    "        return np.dot(v1, v2) / (np.linalg.norm(v1) * np.linalg.norm(v2))"
   ]
  },
  {
   "cell_type": "code",
   "execution_count": 25,
   "id": "b041aef6-3721-4c70-81a9-592550e4da09",
   "metadata": {
    "tags": []
   },
   "outputs": [
    {
     "name": "stdout",
     "output_type": "stream",
     "text": [
      "0.46163366336633666\n",
      "FIN\n"
     ]
    }
   ],
   "source": [
    "first_date_cand = pd.date_range(\"2022-01-01\", \"2022-02-01\")\n",
    "score_G_raw = []\n",
    "score_I_raw = []\n",
    "\n",
    "raw_i_Q_avg_q = []\n",
    "raw_t_T_avg_q = []\n",
    "raw_t_Q_avg_q = []\n",
    "\n",
    "clf = LocalOutlierFactor(n_neighbors=2)\n",
    "days = [30]\n",
    "weekdays = df[\"weekday\"].unique()\n",
    "\n",
    "for a in range(len(days)):\n",
    "    diff_day_1 = days[a]\n",
    "    for b in range(len(days)):\n",
    "        diff_day_2 = days[b]\n",
    "        for h in range(len(users)):\n",
    "            user = users[h]\n",
    "            for i in range(0, 101):\n",
    "                first_date = first_date_cand[\n",
    "                    np.random.randint(0, len(first_date_cand), 1)\n",
    "                ]\n",
    "                last_date = first_date + dt.timedelta(days=diff_day_1)\n",
    "                weekday = np.random.choice(weekdays)\n",
    "                imposters = users.copy()\n",
    "                imposters = imposters[~(imposters == user)]\n",
    "                imposter = np.random.choice(imposters)\n",
    "                t_Q_O = pd.DataFrame(\n",
    "                    df.loc[\n",
    "                        (df[\"User\"] == user)\n",
    "                        & (df[\"state\"] == \"ON\")\n",
    "                        & (df[\"date\"] > first_date[0] + dt.timedelta(seconds=1))\n",
    "                        & (df[\"date\"] < last_date[0])\n",
    "                        & (df[\"weekday\"] == weekday)\n",
    "                    ][[\"battery\", \"time_to_num\"]].copy()\n",
    "                )\n",
    "                t_Q_O = t_Q_O.sort_values(\"time_to_num\").reset_index(drop=True)\n",
    "\n",
    "                t_T_O = pd.DataFrame(\n",
    "                    df.loc[\n",
    "                        (df[\"User\"] == user)\n",
    "                        & (df[\"state\"] == \"ON\")\n",
    "                        & (df[\"date\"] > (first_date[0] - dt.timedelta(days=diff_day_2)))\n",
    "                        & (df[\"date\"] < (first_date[0]))\n",
    "                        & (df[\"weekday\"] == weekday)\n",
    "                    ][[\"battery\", \"time_to_num\"]].copy()\n",
    "                )\n",
    "                t_T_O = t_T_O.sort_values(\"time_to_num\").reset_index(drop=True)\n",
    "\n",
    "                i_Q_O = pd.DataFrame(\n",
    "                    df.loc[\n",
    "                        (df[\"User\"] == imposter)\n",
    "                        & (df[\"state\"] == \"ON\")\n",
    "                        & (df[\"date\"] > first_date[0] + dt.timedelta(seconds=1))\n",
    "                        & (df[\"date\"] < last_date[0])\n",
    "                        & (df[\"weekday\"] == weekday)\n",
    "                    ][[\"battery\", \"time_to_num\"]].copy()\n",
    "                )\n",
    "                i_Q_O = i_Q_O.sort_values(\"time_to_num\").reset_index(drop=True)\n",
    "\n",
    "                raw_t_Q_q = []\n",
    "                raw_t_T_q = []\n",
    "                raw_i_Q_q = []\n",
    "                for j in range(0, 24):\n",
    "                    # print(\"{}:H\".format(j))\n",
    "                    raw_t_Q = t_Q_O.loc[\n",
    "                        (t_Q_O[\"time_to_num\"] > 3600 * j)\n",
    "                        & (t_Q_O[\"time_to_num\"] < 3600 * (j + 1))\n",
    "                    ][\"battery\"]\n",
    "                    if len(raw_t_Q) != 0:\n",
    "                        raw_t_Q_q.append(raw_t_Q.values.mean())\n",
    "                    else:\n",
    "                        raw_t_Q_q.append(0)\n",
    "\n",
    "                    raw_t_T = t_T_O.loc[\n",
    "                        (t_T_O[\"time_to_num\"] > 3600 * j)\n",
    "                        & (t_T_O[\"time_to_num\"] < 3600 * (j + 1))\n",
    "                    ][\"battery\"]\n",
    "                    if len(raw_t_T) != 0:\n",
    "                        raw_t_T_q.append(raw_t_T.values.mean())\n",
    "                    else:\n",
    "                        raw_t_T_q.append(0)\n",
    "\n",
    "                    raw_i_Q = i_Q_O.loc[\n",
    "                        (i_Q_O[\"time_to_num\"] > 3600 * j)\n",
    "                        & (i_Q_O[\"time_to_num\"] < 3600 * (j + 1))\n",
    "                    ][\"battery\"]\n",
    "                    if len(raw_i_Q) != 0:\n",
    "                        raw_i_Q_q.append(raw_i_Q.values.mean())\n",
    "                    else:\n",
    "                        raw_i_Q_q.append(0)\n",
    "                score_G_raw.append(cos_sim(raw_t_T_q, raw_t_Q_q))\n",
    "                score_I_raw.append(cos_sim(raw_t_T_q, raw_i_Q_q))\n",
    "        # print(score_G_raw)\n",
    "        # print(score_I_raw)\n",
    "        grand_truth_raw = np.concatenate(\n",
    "            (np.ones(len(score_G_raw)), np.zeros(len(score_I_raw)))\n",
    "        )\n",
    "        score_raw = np.concatenate((score_G_raw, score_I_raw))\n",
    "        far, tpr, threshold = metrics.roc_curve(grand_truth_raw, score_raw)\n",
    "        auc = metrics.auc(far, tpr)\n",
    "        frr = 1.0 - tpr\n",
    "        eer_raw = far[np.where((far - frr) < 0)[0][-1]]\n",
    "        # print(\"RAW\")\n",
    "        print(eer_raw)\n",
    "print(\"FIN\")"
   ]
  },
  {
   "cell_type": "code",
   "execution_count": 26,
   "id": "25a43d42-4db0-4f7e-b2ca-d9a38ed40ca2",
   "metadata": {},
   "outputs": [
    {
     "data": {
      "text/plain": [
       "10"
      ]
     },
     "execution_count": 26,
     "metadata": {},
     "output_type": "execute_result"
    }
   ],
   "source": [
    "len(i_Q_O)"
   ]
  },
  {
   "cell_type": "code",
   "execution_count": 27,
   "id": "d70a1c78-d6ed-4b6f-8fe4-5cba396b6bf7",
   "metadata": {},
   "outputs": [
    {
     "data": {
      "text/plain": [
       "7"
      ]
     },
     "execution_count": 27,
     "metadata": {},
     "output_type": "execute_result"
    }
   ],
   "source": [
    "len(t_T_O)"
   ]
  },
  {
   "cell_type": "code",
   "execution_count": 28,
   "id": "a5dfb37c-b8fd-43f0-a047-8b595c9be4c9",
   "metadata": {},
   "outputs": [
    {
     "data": {
      "text/plain": [
       "10"
      ]
     },
     "execution_count": 28,
     "metadata": {},
     "output_type": "execute_result"
    }
   ],
   "source": [
    "len(t_Q_O)"
   ]
  },
  {
   "cell_type": "code",
   "execution_count": 29,
   "id": "acecee6d-0ef3-4eb9-b6f6-9bd3ed227a4d",
   "metadata": {},
   "outputs": [],
   "source": [
    "far_kai = pd.DataFrame(far[1:-1]).copy().set_index(threshold[1:-1])\n",
    "frr_kai = pd.DataFrame(frr[1:-1]).copy().set_index(threshold[1:-1])"
   ]
  },
  {
   "cell_type": "code",
   "execution_count": 30,
   "id": "fdf19a7f-f0fd-43d2-877d-39562b792839",
   "metadata": {},
   "outputs": [
    {
     "data": {
      "image/png": "[encoded data removed]",
      "text/plain": [
       "<Figure size 1200x900 with 1 Axes>"
      ]
     },
     "metadata": {},
     "output_type": "display_data"
    }
   ],
   "source": [
    "fig = plt.figure()\n",
    "plt.title(f\"{diff_day_1} : {diff_day_2}\", loc=\"left\")\n",
    "plt.title(f\"EER: {eer_raw}\", loc=\"center\")\n",
    "# plt.title(f\"length: {len(t_T)}:{len(t_Q)}:{len(i_Q)}\", loc=\"right\")\n",
    "\n",
    "plt.plot(far_kai, color=\"r\", label=\"FAR\")\n",
    "plt.plot(frr_kai, color=\"b\", label=\"FRR\")\n",
    "plt.legend()\n",
    "plt.grid()\n",
    "plt.show()"
   ]
  },
  {
   "cell_type": "code",
   "execution_count": 37,
   "id": "9fa169ee-6bc9-4d39-a843-66252eb23ed1",
   "metadata": {},
   "outputs": [
    {
     "name": "stdout",
     "output_type": "stream",
     "text": [
      "0.0037128712871287127\n",
      "FIN\n"
     ]
    }
   ],
   "source": [
    "first_date_cand = pd.date_range(\"2022-01-01\", \"2022-02-01\")\n",
    "score_G_raw = []\n",
    "score_I_raw = []\n",
    "\n",
    "raw_i_Q_avg_q = []\n",
    "raw_t_T_avg_q = []\n",
    "raw_t_Q_avg_q = []\n",
    "\n",
    "test_t_Q = []\n",
    "test_t_T = []\n",
    "test_i_Q = []\n",
    "\n",
    "clf = LocalOutlierFactor(n_neighbors=2)\n",
    "days = [7]\n",
    "weekdays = df[\"weekday\"].unique()\n",
    "\n",
    "for a in range(len(days)):\n",
    "    diff_day_1 = days[a]\n",
    "    for b in range(len(days)):\n",
    "        diff_day_2 = days[b]\n",
    "        for h in range(len(users)):\n",
    "            user = users[h]\n",
    "            for i in range(0, 101):\n",
    "                first_date = first_date_cand[\n",
    "                    np.random.randint(0, len(first_date_cand), 1)\n",
    "                ]\n",
    "                last_date = first_date + dt.timedelta(days=diff_day_1)\n",
    "                weekday = np.random.choice(weekdays)\n",
    "                imposters = users.copy()\n",
    "                imposters = imposters[~(imposters == user)]\n",
    "                imposter = np.random.choice(imposters)\n",
    "                t_Q_O = pd.DataFrame(\n",
    "                    df.loc[\n",
    "                        (df[\"User\"] == user)\n",
    "                        & (df[\"state\"] == \"ON\")\n",
    "                        & (df[\"date\"] > first_date[0] + dt.timedelta(seconds=1))\n",
    "                        & (df[\"date\"] < last_date[0])\n",
    "                        & (df[\"weekday\"] == weekday)\n",
    "                    ][[\"battery\", \"time_to_num\"]].copy()\n",
    "                )\n",
    "                t_Q_O = t_Q_O.sort_values(\"time_to_num\").reset_index(drop=True)\n",
    "                q1 = t_Q_O.battery.quantile(0.25)\n",
    "                q3 = t_Q_O.battery.quantile(0.75)\n",
    "                t_Q_O = t_Q_O.query(\"@q1 < battery < @q3\")\n",
    "\n",
    "                t_T_O = pd.DataFrame(\n",
    "                    df.loc[\n",
    "                        (df[\"User\"] == user)\n",
    "                        & (df[\"state\"] == \"ON\")\n",
    "                        & (df[\"date\"] > (first_date[0] - dt.timedelta(days=diff_day_2)))\n",
    "                        & (df[\"date\"] < (first_date[0]))\n",
    "                        & (df[\"weekday\"] == weekday)\n",
    "                    ][[\"battery\", \"time_to_num\"]].copy()\n",
    "                )\n",
    "                t_T_O = t_T_O.sort_values(\"time_to_num\").reset_index(drop=True)\n",
    "                q1 = t_T_O.battery.quantile(0.25)\n",
    "                q3 = t_T_O.battery.quantile(0.75)\n",
    "                t_T_O = t_T_O.query(\"@q1 < battery < @q3\")\n",
    "\n",
    "                i_Q_O = pd.DataFrame(\n",
    "                    df.loc[\n",
    "                        (df[\"User\"] == imposter)\n",
    "                        & (df[\"state\"] == \"ON\")\n",
    "                        & (df[\"date\"] > first_date[0] + dt.timedelta(seconds=1))\n",
    "                        & (df[\"date\"] < last_date[0])\n",
    "                        & (df[\"weekday\"] == weekday)\n",
    "                    ][[\"battery\", \"time_to_num\"]].copy()\n",
    "                )\n",
    "                i_Q_O = i_Q_O.sort_values(\"time_to_num\").reset_index(drop=True)\n",
    "                q1 = i_Q_O.battery.quantile(0.25)\n",
    "                q3 = i_Q_O.battery.quantile(0.75)\n",
    "                i_Q_O = i_Q_O.query(\"@q1 < battery < @q3\")\n",
    "\n",
    "                raw_t_Q_q = []\n",
    "                raw_t_T_q = []\n",
    "                raw_i_Q_q = []\n",
    "                for j in range(0, 24):\n",
    "                    # print(\"{}:H\".format(j))\n",
    "                    raw_t_Q = t_Q_O.loc[\n",
    "                        (t_Q_O[\"time_to_num\"] > 3600 * j)\n",
    "                        & (t_Q_O[\"time_to_num\"] < 3600 * (j + 1))\n",
    "                    ][\"battery\"]\n",
    "                    if len(raw_t_Q) != 0:\n",
    "                        raw_t_Q_q.append(raw_t_Q.values.mean())\n",
    "                    else:\n",
    "                        raw_t_Q_q.append(0)\n",
    "\n",
    "                    raw_t_T = t_T_O.loc[\n",
    "                        (t_T_O[\"time_to_num\"] > 3600 * j)\n",
    "                        & (t_T_O[\"time_to_num\"] < 3600 * (j + 1))\n",
    "                    ][\"battery\"]\n",
    "                    if len(raw_t_T) != 0:\n",
    "                        raw_t_T_q.append(raw_t_T.values.mean())\n",
    "                    else:\n",
    "                        raw_t_T_q.append(0)\n",
    "\n",
    "                    raw_i_Q = i_Q_O.loc[\n",
    "                        (i_Q_O[\"time_to_num\"] > 3600 * j)\n",
    "                        & (i_Q_O[\"time_to_num\"] < 3600 * (j + 1))\n",
    "                    ][\"battery\"]\n",
    "                    if len(raw_i_Q) != 0:\n",
    "                        raw_i_Q_q.append(raw_i_Q.values.mean())\n",
    "                    else:\n",
    "                        raw_i_Q_q.append(0)\n",
    "\n",
    "                test_t_Q.append(raw_t_Q_q)\n",
    "                test_t_T.append(raw_t_T_q)\n",
    "                test_i_Q.append(raw_i_Q_q)\n",
    "                score_G_raw.append(cos_sim(raw_t_T_q, raw_t_Q_q))\n",
    "                score_I_raw.append(cos_sim(raw_t_T_q, raw_i_Q_q))\n",
    "        grand_truth_raw = np.concatenate(\n",
    "            (np.ones(len(score_G_raw)), np.zeros(len(score_I_raw)))\n",
    "        )\n",
    "        score_raw = np.concatenate((score_G_raw, score_I_raw))\n",
    "        far, tpr, threshold = metrics.roc_curve(grand_truth_raw, score_raw)\n",
    "        auc = metrics.auc(far, tpr)\n",
    "        frr = 1.0 - tpr\n",
    "        eer_raw = far[np.where((far - frr) < 0)[0][-1]]\n",
    "        # print(\"Q13\")\n",
    "        print(eer_raw)\n",
    "print(\"FIN\")"
   ]
  },
  {
   "cell_type": "code",
   "execution_count": 38,
   "id": "c285e467-de8e-4fd0-b186-fecbfd5d15d8",
   "metadata": {},
   "outputs": [
    {
     "data": {
      "text/html": [
       "<div>\n",
       "<style scoped>\n",
       "    .dataframe tbody tr th:only-of-type {\n",
       "        vertical-align: middle;\n",
       "    }\n",
       "\n",
       "    .dataframe tbody tr th {\n",
       "        vertical-align: top;\n",
       "    }\n",
       "\n",
       "    .dataframe thead th {\n",
       "        text-align: right;\n",
       "    }\n",
       "</style>\n",
       "<table border=\"1\" class=\"dataframe\">\n",
       "  <thead>\n",
       "    <tr style=\"text-align: right;\">\n",
       "      <th></th>\n",
       "      <th>0</th>\n",
       "    </tr>\n",
       "  </thead>\n",
       "  <tbody>\n",
       "    <tr>\n",
       "      <th>1.000000</th>\n",
       "      <td>0.001238</td>\n",
       "    </tr>\n",
       "    <tr>\n",
       "      <th>0.661201</th>\n",
       "      <td>0.002475</td>\n",
       "    </tr>\n",
       "    <tr>\n",
       "      <th>0.603628</th>\n",
       "      <td>0.002475</td>\n",
       "    </tr>\n",
       "    <tr>\n",
       "      <th>0.562617</th>\n",
       "      <td>0.002475</td>\n",
       "    </tr>\n",
       "    <tr>\n",
       "      <th>0.548086</th>\n",
       "      <td>0.002475</td>\n",
       "    </tr>\n",
       "    <tr>\n",
       "      <th>0.468914</th>\n",
       "      <td>0.003713</td>\n",
       "    </tr>\n",
       "  </tbody>\n",
       "</table>\n",
       "</div>"
      ],
      "text/plain": [
       "                 0\n",
       "1.000000  0.001238\n",
       "0.661201  0.002475\n",
       "0.603628  0.002475\n",
       "0.562617  0.002475\n",
       "0.548086  0.002475\n",
       "0.468914  0.003713"
      ]
     },
     "execution_count": 38,
     "metadata": {},
     "output_type": "execute_result"
    }
   ],
   "source": [
    "far_kai = pd.DataFrame(far[1:-1]).copy().set_index(threshold[1:-1])\n",
    "frr_kai = pd.DataFrame(frr[1:-1]).copy().set_index(threshold[1:-1])\n",
    "far_kai"
   ]
  },
  {
   "cell_type": "code",
   "execution_count": 39,
   "id": "e7466036-8bc5-43d7-8c2d-60180ed95d7c",
   "metadata": {},
   "outputs": [
    {
     "data": {
      "image/png": "[encoded data removed]",
      "text/plain": [
       "<Figure size 1200x900 with 1 Axes>"
      ]
     },
     "metadata": {},
     "output_type": "display_data"
    }
   ],
   "source": [
    "fig = plt.figure()\n",
    "plt.title(f\"{diff_day_1} : {diff_day_2}\", loc=\"left\")\n",
    "plt.title(f\"EER: {eer_raw}\", loc=\"center\")\n",
    "# plt.title(f\"length: {len(t_T)}:{len(t_Q)}:{len(i_Q)}\", loc=\"right\")\n",
    "\n",
    "plt.plot(far_kai, color=\"r\", label=\"FAR\")\n",
    "plt.plot(frr_kai, color=\"b\", label=\"FRR\")\n",
    "plt.legend()\n",
    "plt.grid()\n",
    "plt.show()"
   ]
  },
  {
   "cell_type": "code",
   "execution_count": 33,
   "id": "ecd983db-62dc-4b80-ac5e-9276230ac43a",
   "metadata": {},
   "outputs": [
    {
     "data": {
      "text/plain": [
       "array([-1.        , -0.98143564, -0.98019802, -0.97524752, -0.9740099 ,\n",
       "       -0.96410891, -0.95792079, -0.95544554, -0.94925743, -0.9480198 ,\n",
       "       -0.94678218, -0.94183168, -0.94059406, -0.93935644, -0.93564356,\n",
       "       -0.93316832, -0.92821782, -0.92574257, -0.9220297 , -0.91955446,\n",
       "       -0.91707921, -0.91460396, -0.91212871, -0.90965347, -0.90841584,\n",
       "       -0.90470297, -0.90346535, -0.9009901 , -0.89975248, -0.89727723,\n",
       "       -0.89232673, -0.89108911, -0.88366337, -0.88118812, -0.8799505 ,\n",
       "       -0.87871287, -0.86633663, -0.86509901, -0.86014851, -0.85519802,\n",
       "       -0.8539604 , -0.8490099 , -0.84529703, -0.84158416, -0.83663366,\n",
       "       -0.83044554, -0.82549505, -0.82054455, -0.81806931, -0.81435644,\n",
       "       -0.81188119, -0.81064356, -0.80569307, -0.80445545, -0.80321782,\n",
       "       -0.80074257, -0.79826733, -0.79207921, -0.78836634, -0.78712871,\n",
       "        1.        ])"
      ]
     },
     "execution_count": 33,
     "metadata": {},
     "output_type": "execute_result"
    }
   ],
   "source": [
    "far - frr"
   ]
  },
  {
   "cell_type": "code",
   "execution_count": 31,
   "id": "4ea8b196-856b-48f6-926b-566e2490d940",
   "metadata": {},
   "outputs": [
    {
     "data": {
      "text/plain": [
       "0.1"
      ]
     },
     "execution_count": 31,
     "metadata": {},
     "output_type": "execute_result"
    }
   ],
   "source": [
    "far[np.where((far - frr) < 0)[0][-1]]"
   ]
  },
  {
   "cell_type": "code",
   "execution_count": 51,
   "id": "212209f5-c37b-4b16-903d-1a16ba5dc398",
   "metadata": {},
   "outputs": [
    {
     "name": "stdout",
     "output_type": "stream",
     "text": [
      "0.452970297029703\n",
      "FIN\n"
     ]
    }
   ],
   "source": [
    "first_date_cand = pd.date_range(\"2022-01-01\", \"2022-02-01\")\n",
    "score_G_raw = []\n",
    "score_I_raw = []\n",
    "\n",
    "raw_i_Q_avg_q = []\n",
    "raw_t_T_avg_q = []\n",
    "raw_t_Q_avg_q = []\n",
    "\n",
    "clf = LocalOutlierFactor(n_neighbors=2)\n",
    "days = [30]\n",
    "weekdays = df[\"weekday\"].unique()\n",
    "\n",
    "for a in range(len(days)):\n",
    "    diff_day_1 = days[a]\n",
    "    for b in range(len(days)):\n",
    "        diff_day_2 = days[b]\n",
    "        for h in range(len(users)):\n",
    "            user = users[h]\n",
    "            for i in range(0, 101):\n",
    "                first_date = first_date_cand[\n",
    "                    np.random.randint(0, len(first_date_cand), 1)\n",
    "                ]\n",
    "                last_date = first_date + dt.timedelta(days=diff_day_1)\n",
    "                weekday = np.random.choice(weekdays)\n",
    "                imposters = users.copy()\n",
    "                imposters = imposters[~(imposters == user)]\n",
    "                imposter = np.random.choice(imposters)\n",
    "                t_Q_O = pd.DataFrame(\n",
    "                    df.loc[\n",
    "                        (df[\"User\"] == user)\n",
    "                        & (df[\"state\"] == \"ON\")\n",
    "                        & (df[\"date\"] > first_date[0] + dt.timedelta(seconds=1))\n",
    "                        & (df[\"date\"] < last_date[0])\n",
    "                        & (df[\"weekday\"] == weekday)\n",
    "                    ][[\"battery\", \"time_to_num\"]].copy()\n",
    "                )\n",
    "                t_Q_O = t_Q_O.sort_values(\"time_to_num\").reset_index(drop=True)\n",
    "                t_Q = np.array(t_Q_O)\n",
    "                t_T_O = pd.DataFrame(\n",
    "                    df.loc[\n",
    "                        (df[\"User\"] == user)\n",
    "                        & (df[\"state\"] == \"ON\")\n",
    "                        & (df[\"date\"] > (first_date[0] - dt.timedelta(days=diff_day_2)))\n",
    "                        & (df[\"date\"] < (first_date[0]))\n",
    "                        & (df[\"weekday\"] == weekday)\n",
    "                    ][[\"battery\", \"time_to_num\"]].copy()\n",
    "                )\n",
    "                t_T_O = t_T_O.sort_values(\"time_to_num\").reset_index(drop=True)\n",
    "                t_T = np.array(t_T_O)\n",
    "                i_Q_O = pd.DataFrame(\n",
    "                    df.loc[\n",
    "                        (df[\"User\"] == imposter)\n",
    "                        & (df[\"state\"] == \"ON\")\n",
    "                        & (df[\"date\"] > first_date[0] + dt.timedelta(seconds=1))\n",
    "                        & (df[\"date\"] < last_date[0])\n",
    "                        & (df[\"weekday\"] == weekday)\n",
    "                    ][[\"battery\", \"time_to_num\"]].copy()\n",
    "                )\n",
    "                i_Q_O = i_Q_O.sort_values(\"time_to_num\").reset_index(drop=True)\n",
    "                i_Q = np.array(i_Q_O)\n",
    "                raw_t_Q_q = []\n",
    "                raw_t_T_q = []\n",
    "                raw_i_Q_q = []\n",
    "                for j in range(0, 24):\n",
    "                    try:\n",
    "                        # print(len(t_Q_O))\n",
    "                        pred = clf.fit_predict(t_Q)\n",
    "                        raw_t_Q = pd.DataFrame(\n",
    "                            [\n",
    "                                t_Q[:, 0][np.where(pred > 0)],\n",
    "                                t_Q[:, 1][np.where(pred > 0)],\n",
    "                            ]\n",
    "                        ).T\n",
    "                        raw_t_Q = raw_t_Q.rename(\n",
    "                            columns={0: \"battery\", 1: \"time_to_num\"}\n",
    "                        )\n",
    "                        # print(raw_t_Q)\n",
    "                        raw_t_Q = raw_t_Q.loc[\n",
    "                            (raw_t_Q[\"time_to_num\"] > 3600 * j)\n",
    "                            & (raw_t_Q[\"time_to_num\"] < 3600 * (j + 1))\n",
    "                        ][\"battery\"]\n",
    "                        # print(len(raw_t_Q))\n",
    "                        # print(\"t_Q\")\n",
    "                        # print(raw_t_Q)\n",
    "                        if np.isnan(raw_t_Q.values.mean()):\n",
    "                            raw_t_Q_q.append(0)\n",
    "                        else:\n",
    "                            raw_t_Q_q.append(raw_t_Q.values.mean())\n",
    "                    except:\n",
    "                        raw_t_Q_q.append(0)\n",
    "\n",
    "                    try:\n",
    "                        pred = clf.fit_predict(t_T)\n",
    "                        raw_t_T = pd.DataFrame(\n",
    "                            [\n",
    "                                t_T[:, 0][np.where(pred > 0)],\n",
    "                                t_T[:, 1][np.where(pred > 0)],\n",
    "                            ]\n",
    "                        ).T\n",
    "                        raw_t_T = raw_t_T.rename(\n",
    "                            columns={0: \"battery\", 1: \"time_to_num\"}\n",
    "                        )\n",
    "                        # print(raw_t_T)\n",
    "                        raw_t_T = raw_t_T.loc[\n",
    "                            (raw_t_T[\"time_to_num\"] > 3600 * j)\n",
    "                            & (raw_t_T[\"time_to_num\"] < 3600 * (j + 1))\n",
    "                        ][\"battery\"]\n",
    "                        # print(\"t_T\")\n",
    "                        # print(raw_t_T)\n",
    "                        if np.isnan(raw_t_T.values.mean()):\n",
    "                            raw_t_T_q.append(0)\n",
    "                        else:\n",
    "                            raw_t_T_q.append(raw_t_T.values.mean())\n",
    "                    except:\n",
    "                        raw_t_T_q.append(0)\n",
    "\n",
    "                    # print(\"i_Q\")\n",
    "                    try:\n",
    "                        # print(len(i_Q_O))\n",
    "                        pred = clf.fit_predict(i_Q)\n",
    "                        raw_i_Q = pd.DataFrame(\n",
    "                            [\n",
    "                                i_Q[:, 0][np.where(pred > 0)],\n",
    "                                i_Q[:, 1][np.where(pred > 0)],\n",
    "                            ]\n",
    "                        ).T\n",
    "                        raw_i_Q = raw_i_Q.rename(\n",
    "                            columns={0: \"battery\", 1: \"time_to_num\"}\n",
    "                        )\n",
    "                        # print(raw_i_Q)\n",
    "                        raw_i_Q = raw_i_Q.loc[\n",
    "                            (raw_i_Q[\"time_to_num\"] > 3600 * j)\n",
    "                            & (raw_i_Q[\"time_to_num\"] < 3600 * (j + 1))\n",
    "                        ][\"battery\"]\n",
    "                        # print(len(raw_i_Q))\n",
    "                        # print(\"i_Q\")\n",
    "                        # print(raw_i_Q)\n",
    "                        if np.isnan(raw_i_Q.values.mean()):\n",
    "                            raw_i_Q_q.append(0)\n",
    "                        else:\n",
    "                            raw_i_Q_q.append(raw_i_Q.values.mean())\n",
    "                    except:\n",
    "                        raw_i_Q_q.append(0)\n",
    "                    # print(raw_i_Q_q)\n",
    "                    # print(\"----\")\n",
    "                    # print(raw_t_T_q)\n",
    "                    # print(\"~~~~~\")\n",
    "                    # print(raw_t_Q_q)\n",
    "                    # print(\"=====\")\n",
    "                    # print(raw_i_Q_q)\n",
    "                score_G_raw.append(cos_sim(raw_t_T_q, raw_t_Q_q))\n",
    "                score_I_raw.append(cos_sim(raw_t_T_q, raw_i_Q_q))\n",
    "        grand_truth_raw = np.concatenate(\n",
    "            (np.ones(len(score_G_raw)), np.zeros(len(score_I_raw)))\n",
    "        )\n",
    "        score_raw = np.concatenate((score_G_raw, score_I_raw))\n",
    "        far, tpr, threshold = metrics.roc_curve(grand_truth_raw, score_raw)\n",
    "        auc = metrics.auc(far, tpr)\n",
    "        frr = 1.0 - tpr\n",
    "        eer_raw = far[np.where((far - frr) < 0)[0][-1]]\n",
    "        # print(\"lof\")\n",
    "        print(eer_raw)\n",
    "print(\"FIN\")"
   ]
  },
  {
   "cell_type": "code",
   "execution_count": 52,
   "id": "04484fae-09c5-401d-9be4-2f4e10063ab6",
   "metadata": {},
   "outputs": [
    {
     "data": {
      "image/png": "[encoded data removed]",
      "text/plain": [
       "<Figure size 1200x900 with 1 Axes>"
      ]
     },
     "metadata": {},
     "output_type": "display_data"
    }
   ],
   "source": [
    "far_kai = pd.DataFrame(far[1:-1]).copy().set_index(threshold[1:-1])\n",
    "frr_kai = pd.DataFrame(frr[1:-1]).copy().set_index(threshold[1:-1])\n",
    "\n",
    "fig = plt.figure()\n",
    "# plt.title(f\"{diff_day_1} : {diff_day_2}\", loc=\"left\")\n",
    "plt.title(f\"EER: {eer_raw}\", loc=\"center\")\n",
    "# plt.title(f\"length: {len(t_T)}:{len(t_Q)}:{len(i_Q)}\", loc=\"right\")\n",
    "\n",
    "far_kai\n",
    "\n",
    "plt.plot(far_kai, color=\"r\", label=\"FAR\")\n",
    "plt.plot(frr_kai, color=\"b\", label=\"FRR\")\n",
    "plt.legend()\n",
    "plt.grid()\n",
    "plt.show()"
   ]
  },
  {
   "cell_type": "code",
   "execution_count": null,
   "id": "b36f62d2-c27c-4586-88e9-58d1dcfc3982",
   "metadata": {},
   "outputs": [],
   "source": []
  }
 ],
 "metadata": {
  "kernelspec": {
   "display_name": "Python 3 (ipykernel)",
   "language": "python",
   "name": "python3"
  },
  "language_info": {
   "codemirror_mode": {
    "name": "ipython",
    "version": 3
   },
   "file_extension": ".py",
   "mimetype": "text/x-python",
   "name": "python",
   "nbconvert_exporter": "python",
   "pygments_lexer": "ipython3",
   "version": "3.9.15"
  }
 },
 "nbformat": 4,
 "nbformat_minor": 5
}
