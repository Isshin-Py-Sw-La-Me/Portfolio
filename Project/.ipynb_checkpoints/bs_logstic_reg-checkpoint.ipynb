{
 "cells": [
  {
   "cell_type": "code",
   "execution_count": 67,
   "id": "04cddd5f-301e-48b4-b470-25dedefd7ef0",
   "metadata": {},
   "outputs": [],
   "source": [
    "# Import components\n",
    "import datetime as dt\n",
    "import math\n",
    "import warnings\n",
    "\n",
    "import matplotlib.pyplot as plt\n",
    "import numpy as np\n",
    "import pandas as pd\n",
    "import pmdarima as pm\n",
    "import seaborn as sns\n",
    "from matplotlib import pyplot as pltw\n",
    "from pmdarima import arima, datasets, model_selection, utils\n",
    "from scipy.spatial import distance\n",
    "from sklearn import metrics\n",
    "from sklearn.metrics import mean_absolute_error\n",
    "from sklearn.neighbors import LocalOutlierFactor\n",
    "from statsmodels.tsa.seasonal import STL\n",
    "\n",
    "warnings.simplefilter(\"ignore\")\n",
    "\n",
    "plt.rcParams[\"font.family\"] = \"Hiragino Maru Gothic Pro\"\n",
    "plt.style.use(\"ggplot\")  # グラフのスタイル\n",
    "plt.rcParams[\"figure.figsize\"] = [12, 9]  # グラフサイズ設定"
   ]
  },
  {
   "cell_type": "code",
   "execution_count": 68,
   "id": "2fe05216-7535-4c38-a61a-a850a5b1557b",
   "metadata": {},
   "outputs": [],
   "source": [
    "df = pd.read_csv(\"../datasets/fixed_battery_log_2.csv\")\n",
    "df[\"date\"] = pd.to_datetime(df[\"date\"])\n",
    "users = df[\"User\"].unique()"
   ]
  },
  {
   "cell_type": "code",
   "execution_count": 69,
   "id": "a5f327ba-c8d9-45dd-88e3-164bc30e3c5c",
   "metadata": {},
   "outputs": [
    {
     "data": {
      "text/html": [
       "<div>\n",
       "<style scoped>\n",
       "    .dataframe tbody tr th:only-of-type {\n",
       "        vertical-align: middle;\n",
       "    }\n",
       "\n",
       "    .dataframe tbody tr th {\n",
       "        vertical-align: top;\n",
       "    }\n",
       "\n",
       "    .dataframe thead th {\n",
       "        text-align: right;\n",
       "    }\n",
       "</style>\n",
       "<table border=\"1\" class=\"dataframe\">\n",
       "  <thead>\n",
       "    <tr style=\"text-align: right;\">\n",
       "      <th></th>\n",
       "      <th>User</th>\n",
       "      <th>date</th>\n",
       "      <th>battery</th>\n",
       "      <th>state</th>\n",
       "      <th>weekday</th>\n",
       "      <th>time_to_num</th>\n",
       "    </tr>\n",
       "  </thead>\n",
       "  <tbody>\n",
       "    <tr>\n",
       "      <th>0</th>\n",
       "      <td>Narita</td>\n",
       "      <td>2021-12-04 01:52:00</td>\n",
       "      <td>60</td>\n",
       "      <td>ON</td>\n",
       "      <td>5</td>\n",
       "      <td>6773</td>\n",
       "    </tr>\n",
       "    <tr>\n",
       "      <th>1</th>\n",
       "      <td>Narita</td>\n",
       "      <td>2021-12-04 02:22:00</td>\n",
       "      <td>73</td>\n",
       "      <td>OFF</td>\n",
       "      <td>5</td>\n",
       "      <td>8566</td>\n",
       "    </tr>\n",
       "    <tr>\n",
       "      <th>2</th>\n",
       "      <td>Narita</td>\n",
       "      <td>2021-12-04 07:06:00</td>\n",
       "      <td>71</td>\n",
       "      <td>ON</td>\n",
       "      <td>5</td>\n",
       "      <td>25564</td>\n",
       "    </tr>\n",
       "    <tr>\n",
       "      <th>3</th>\n",
       "      <td>Narita</td>\n",
       "      <td>2021-12-04 07:15:00</td>\n",
       "      <td>73</td>\n",
       "      <td>OFF</td>\n",
       "      <td>5</td>\n",
       "      <td>26105</td>\n",
       "    </tr>\n",
       "    <tr>\n",
       "      <th>4</th>\n",
       "      <td>Narita</td>\n",
       "      <td>2021-12-04 07:15:00</td>\n",
       "      <td>73</td>\n",
       "      <td>ON</td>\n",
       "      <td>5</td>\n",
       "      <td>26113</td>\n",
       "    </tr>\n",
       "  </tbody>\n",
       "</table>\n",
       "</div>"
      ],
      "text/plain": [
       "     User                date  battery state  weekday  time_to_num\n",
       "0  Narita 2021-12-04 01:52:00       60    ON        5         6773\n",
       "1  Narita 2021-12-04 02:22:00       73   OFF        5         8566\n",
       "2  Narita 2021-12-04 07:06:00       71    ON        5        25564\n",
       "3  Narita 2021-12-04 07:15:00       73   OFF        5        26105\n",
       "4  Narita 2021-12-04 07:15:00       73    ON        5        26113"
      ]
     },
     "execution_count": 69,
     "metadata": {},
     "output_type": "execute_result"
    }
   ],
   "source": [
    "df.head()"
   ]
  },
  {
   "cell_type": "code",
   "execution_count": 99,
   "id": "0f3af6b0-8d51-46b9-a22f-dc9a2ca6e4d5",
   "metadata": {},
   "outputs": [],
   "source": [
    "# X_train = df.loc[\n",
    "#     (df[\"User\"] == \"Narita\") & (df[\"state\"] == \"ON\") & (df[\"date\"] < \"2022-01-31\")\n",
    "# ][[\"battery\", \"weekday\", \"time_to_num\"]].copy()\n",
    "X_train = df.loc[(df[\"state\"] == \"ON\") & (df[\"date\"] < \"2022-01-31\")][\n",
    "    [\"battery\", \"weekday\", \"time_to_num\"]\n",
    "].copy()"
   ]
  },
  {
   "cell_type": "code",
   "execution_count": 100,
   "id": "c8539ccb-f646-448b-8b5c-1401e612b18c",
   "metadata": {},
   "outputs": [],
   "source": [
    "# y_train = df.loc[\n",
    "#     (df[\"User\"] == \"Narita\") & (df[\"state\"] == \"ON\") & (df[\"date\"] < \"2022-01-31\")\n",
    "# ][\"User\"].copy()\n",
    "y_train = df.loc[\n",
    "    (df[\"state\"] == \"ON\") & (df[\"date\"] < \"2022-01-31\")\n",
    "][\"User\"].copy()"
   ]
  },
  {
   "cell_type": "code",
   "execution_count": 101,
   "id": "7660944e-6a73-4588-abb4-92dc54d7ac9a",
   "metadata": {},
   "outputs": [],
   "source": [
    "# X_test = df.loc[\n",
    "#     (df[\"User\"] == \"Narita\") & (df[\"state\"] == \"ON\") & (df[\"date\"] > \"2022-01-31\")\n",
    "# ][[\"battery\", \"weekday\", \"time_to_num\"]].copy()\n",
    "X_test = df.loc[\n",
    "    (df[\"state\"] == \"ON\") & (df[\"date\"] > \"2022-01-31\")\n",
    "][[\"battery\", \"weekday\", \"time_to_num\"]].copy()"
   ]
  },
  {
   "cell_type": "code",
   "execution_count": 102,
   "id": "99447d41-3466-4895-b638-2b1f3c0c1187",
   "metadata": {},
   "outputs": [],
   "source": [
    "# y_test = df.loc[\n",
    "#     (df[\"User\"] == \"Narita\") & (df[\"state\"] == \"ON\") & (df[\"date\"] > \"2022-01-31\")\n",
    "# ][\"User\"].copy()\n",
    "y_test = df.loc[\n",
    "    (df[\"state\"] == \"ON\") & (df[\"date\"] > \"2022-01-31\")\n",
    "][\"User\"].copy()"
   ]
  },
  {
   "cell_type": "code",
   "execution_count": 103,
   "id": "c99ab773-bbc0-4182-86c2-c8312b9bc5d4",
   "metadata": {},
   "outputs": [],
   "source": [
    "from sklearn import linear_model\n",
    "from sklearn.linear_model import LogisticRegression\n",
    "from sklearn.model_selection import train_test_split"
   ]
  },
  {
   "cell_type": "code",
   "execution_count": 104,
   "id": "a885376a-cf70-4fd0-beb0-4d11d7da025b",
   "metadata": {},
   "outputs": [
    {
     "data": {
      "text/plain": [
       "LogisticRegression()"
      ]
     },
     "execution_count": 104,
     "metadata": {},
     "output_type": "execute_result"
    }
   ],
   "source": [
    "model = LogisticRegression()\n",
    "model.fit(X_train, y_train)"
   ]
  },
  {
   "cell_type": "code",
   "execution_count": 105,
   "id": "8bc6e6b3-bbe5-4952-ba60-d1bf935b775b",
   "metadata": {},
   "outputs": [
    {
     "name": "stdout",
     "output_type": "stream",
     "text": [
      "0.1891385767790262\n"
     ]
    }
   ],
   "source": [
    "from sklearn import metrics\n",
    "\n",
    "pred = model.predict(X_test)\n",
    "print(metrics.accuracy_score(y_test, pred))"
   ]
  },
  {
   "cell_type": "code",
   "execution_count": null,
   "id": "4b82c4e0-7c22-42c9-9044-756f81c46240",
   "metadata": {},
   "outputs": [],
   "source": []
  }
 ],
 "metadata": {
  "kernelspec": {
   "display_name": "Python 3 (ipykernel)",
   "language": "python",
   "name": "python3"
  },
  "language_info": {
   "codemirror_mode": {
    "name": "ipython",
    "version": 3
   },
   "file_extension": ".py",
   "mimetype": "text/x-python",
   "name": "python",
   "nbconvert_exporter": "python",
   "pygments_lexer": "ipython3",
   "version": "3.9.12"
  }
 },
 "nbformat": 4,
 "nbformat_minor": 5
}
