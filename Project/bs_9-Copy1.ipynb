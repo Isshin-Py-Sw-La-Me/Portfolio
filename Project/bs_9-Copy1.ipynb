{
 "cells": [
  {
   "cell_type": "code",
   "execution_count": 2,
   "id": "8b5c1e2c-904b-4d64-b5c6-a8a4e262acb6",
   "metadata": {},
   "outputs": [],
   "source": [
    "# Import components\n",
    "import datetime as dt\n",
    "import math\n",
    "import warnings\n",
    "\n",
    "import matplotlib.pyplot as plt\n",
    "import numpy as np\n",
    "import pandas as pd\n",
    "import pmdarima as pm\n",
    "import seaborn as sns\n",
    "from matplotlib import pyplot as pltw\n",
    "from pmdarima import arima, datasets, model_selection, utils\n",
    "from sklearn import metrics\n",
    "from sklearn.metrics import mean_absolute_error\n",
    "from sklearn.neighbors import LocalOutlierFactor\n",
    "from statsmodels.tsa.seasonal import STL\n",
    "\n",
    "warnings.simplefilter(\"ignore\")\n",
    "\n",
    "plt.rcParams[\"font.family\"] = \"Hiragino Maru Gothic Pro\"\n",
    "plt.style.use(\"ggplot\")  # グラフのスタイル\n",
    "plt.rcParams[\"figure.figsize\"] = [12, 9]  # グラフサイズ設定"
   ]
  },
  {
   "cell_type": "code",
   "execution_count": 3,
   "id": "27e67fad-5f14-4ccb-addd-df9c29e68f70",
   "metadata": {},
   "outputs": [],
   "source": [
    "df = pd.read_csv(\"../datasets/fixed_battery_log_2.csv\")\n",
    "df[\"date\"] = pd.to_datetime(df[\"date\"])\n",
    "users = df[\"User\"].unique()"
   ]
  },
  {
   "cell_type": "code",
   "execution_count": 27,
   "id": "43b1f2f2-d145-453f-86ec-3a72059106aa",
   "metadata": {},
   "outputs": [
    {
     "data": {
      "text/html": [
       "<div>\n",
       "<style scoped>\n",
       "    .dataframe tbody tr th:only-of-type {\n",
       "        vertical-align: middle;\n",
       "    }\n",
       "\n",
       "    .dataframe tbody tr th {\n",
       "        vertical-align: top;\n",
       "    }\n",
       "\n",
       "    .dataframe thead th {\n",
       "        text-align: right;\n",
       "    }\n",
       "</style>\n",
       "<table border=\"1\" class=\"dataframe\">\n",
       "  <thead>\n",
       "    <tr style=\"text-align: right;\">\n",
       "      <th></th>\n",
       "      <th>index</th>\n",
       "      <th>User</th>\n",
       "      <th>date</th>\n",
       "      <th>battery</th>\n",
       "      <th>state</th>\n",
       "      <th>weekday</th>\n",
       "      <th>time_to_num</th>\n",
       "    </tr>\n",
       "  </thead>\n",
       "  <tbody>\n",
       "    <tr>\n",
       "      <th>275</th>\n",
       "      <td>550</td>\n",
       "      <td>Narita</td>\n",
       "      <td>2022-03-31 07:50:00</td>\n",
       "      <td>61</td>\n",
       "      <td>ON</td>\n",
       "      <td>3</td>\n",
       "      <td>28242</td>\n",
       "    </tr>\n",
       "    <tr>\n",
       "      <th>276</th>\n",
       "      <td>552</td>\n",
       "      <td>Narita</td>\n",
       "      <td>2022-03-31 09:27:00</td>\n",
       "      <td>75</td>\n",
       "      <td>ON</td>\n",
       "      <td>3</td>\n",
       "      <td>34058</td>\n",
       "    </tr>\n",
       "    <tr>\n",
       "      <th>277</th>\n",
       "      <td>554</td>\n",
       "      <td>Narita</td>\n",
       "      <td>2022-03-31 10:02:00</td>\n",
       "      <td>73</td>\n",
       "      <td>ON</td>\n",
       "      <td>3</td>\n",
       "      <td>36131</td>\n",
       "    </tr>\n",
       "    <tr>\n",
       "      <th>278</th>\n",
       "      <td>556</td>\n",
       "      <td>Narita</td>\n",
       "      <td>2022-03-31 11:51:00</td>\n",
       "      <td>86</td>\n",
       "      <td>ON</td>\n",
       "      <td>3</td>\n",
       "      <td>42683</td>\n",
       "    </tr>\n",
       "    <tr>\n",
       "      <th>279</th>\n",
       "      <td>558</td>\n",
       "      <td>Narita</td>\n",
       "      <td>2022-03-31 16:34:00</td>\n",
       "      <td>57</td>\n",
       "      <td>ON</td>\n",
       "      <td>3</td>\n",
       "      <td>59675</td>\n",
       "    </tr>\n",
       "  </tbody>\n",
       "</table>\n",
       "</div>"
      ],
      "text/plain": [
       "     index    User                date  battery state  weekday  time_to_num\n",
       "275    550  Narita 2022-03-31 07:50:00       61    ON        3        28242\n",
       "276    552  Narita 2022-03-31 09:27:00       75    ON        3        34058\n",
       "277    554  Narita 2022-03-31 10:02:00       73    ON        3        36131\n",
       "278    556  Narita 2022-03-31 11:51:00       86    ON        3        42683\n",
       "279    558  Narita 2022-03-31 16:34:00       57    ON        3        59675"
      ]
     },
     "execution_count": 27,
     "metadata": {},
     "output_type": "execute_result"
    }
   ],
   "source": [
    "data_nari = df.loc[(df[\"User\"] == \"Narita\") & (df[\"state\"] == \"ON\")].reset_index()\n",
    "data_nari.tail()"
   ]
  },
  {
   "cell_type": "code",
   "execution_count": 28,
   "id": "af3e17c8-87fe-4944-8072-ffff831a5a09",
   "metadata": {},
   "outputs": [
    {
     "data": {
      "text/plain": [
       "0      60\n",
       "1      71\n",
       "2      73\n",
       "3      30\n",
       "4      42\n",
       "       ..\n",
       "275    61\n",
       "276    75\n",
       "277    73\n",
       "278    86\n",
       "279    57\n",
       "Name: battery, Length: 280, dtype: int64"
      ]
     },
     "execution_count": 28,
     "metadata": {},
     "output_type": "execute_result"
    }
   ],
   "source": [
    "data_nari.loc[:][\"battery\"]"
   ]
  },
  {
   "cell_type": "code",
   "execution_count": 26,
   "id": "6cee08a2-604c-479c-b895-d52484535fac",
   "metadata": {},
   "outputs": [
    {
     "data": {
      "text/html": [
       "<div>\n",
       "<style scoped>\n",
       "    .dataframe tbody tr th:only-of-type {\n",
       "        vertical-align: middle;\n",
       "    }\n",
       "\n",
       "    .dataframe tbody tr th {\n",
       "        vertical-align: top;\n",
       "    }\n",
       "\n",
       "    .dataframe thead th {\n",
       "        text-align: right;\n",
       "    }\n",
       "</style>\n",
       "<table border=\"1\" class=\"dataframe\">\n",
       "  <thead>\n",
       "    <tr style=\"text-align: right;\">\n",
       "      <th></th>\n",
       "      <th>index</th>\n",
       "      <th>User</th>\n",
       "      <th>date</th>\n",
       "      <th>battery</th>\n",
       "      <th>state</th>\n",
       "      <th>weekday</th>\n",
       "      <th>time_to_num</th>\n",
       "    </tr>\n",
       "  </thead>\n",
       "  <tbody>\n",
       "    <tr>\n",
       "      <th>259</th>\n",
       "      <td>550</td>\n",
       "      <td>Narita</td>\n",
       "      <td>2022-03-31 07:50:00</td>\n",
       "      <td>61</td>\n",
       "      <td>ON</td>\n",
       "      <td>3</td>\n",
       "      <td>28242</td>\n",
       "    </tr>\n",
       "    <tr>\n",
       "      <th>260</th>\n",
       "      <td>552</td>\n",
       "      <td>Narita</td>\n",
       "      <td>2022-03-31 09:27:00</td>\n",
       "      <td>75</td>\n",
       "      <td>ON</td>\n",
       "      <td>3</td>\n",
       "      <td>34058</td>\n",
       "    </tr>\n",
       "    <tr>\n",
       "      <th>261</th>\n",
       "      <td>554</td>\n",
       "      <td>Narita</td>\n",
       "      <td>2022-03-31 10:02:00</td>\n",
       "      <td>73</td>\n",
       "      <td>ON</td>\n",
       "      <td>3</td>\n",
       "      <td>36131</td>\n",
       "    </tr>\n",
       "    <tr>\n",
       "      <th>262</th>\n",
       "      <td>556</td>\n",
       "      <td>Narita</td>\n",
       "      <td>2022-03-31 11:51:00</td>\n",
       "      <td>86</td>\n",
       "      <td>ON</td>\n",
       "      <td>3</td>\n",
       "      <td>42683</td>\n",
       "    </tr>\n",
       "    <tr>\n",
       "      <th>263</th>\n",
       "      <td>558</td>\n",
       "      <td>Narita</td>\n",
       "      <td>2022-03-31 16:34:00</td>\n",
       "      <td>57</td>\n",
       "      <td>ON</td>\n",
       "      <td>3</td>\n",
       "      <td>59675</td>\n",
       "    </tr>\n",
       "  </tbody>\n",
       "</table>\n",
       "</div>"
      ],
      "text/plain": [
       "     index    User                date  battery state  weekday  time_to_num\n",
       "259    550  Narita 2022-03-31 07:50:00       61    ON        3        28242\n",
       "260    552  Narita 2022-03-31 09:27:00       75    ON        3        34058\n",
       "261    554  Narita 2022-03-31 10:02:00       73    ON        3        36131\n",
       "262    556  Narita 2022-03-31 11:51:00       86    ON        3        42683\n",
       "263    558  Narita 2022-03-31 16:34:00       57    ON        3        59675"
      ]
     },
     "execution_count": 26,
     "metadata": {},
     "output_type": "execute_result"
    }
   ],
   "source": [
    "q = data_nari.battery.quantile(0.95)\n",
    "dn_q_25 = data_nari.query(\"battery < @q\").reset_index()\n",
    "del dn_q_25[\"level_0\"]\n",
    "dn_q_25.tail()"
   ]
  },
  {
   "cell_type": "code",
   "execution_count": 29,
   "id": "eccd834a-5250-4501-95b5-92771691d8dd",
   "metadata": {},
   "outputs": [],
   "source": [
    "clf = LocalOutlierFactor(n_neighbors=5)"
   ]
  },
  {
   "cell_type": "code",
   "execution_count": null,
   "id": "56bf834f-f543-47cf-87c8-2f2a1d08628e",
   "metadata": {},
   "outputs": [],
   "source": []
  },
  {
   "cell_type": "code",
   "execution_count": null,
   "id": "036d33da-5ef4-4a28-970c-1652bd31caa0",
   "metadata": {},
   "outputs": [],
   "source": []
  }
 ],
 "metadata": {
  "kernelspec": {
   "display_name": "Python 3 (ipykernel)",
   "language": "python",
   "name": "python3"
  },
  "language_info": {
   "codemirror_mode": {
    "name": "ipython",
    "version": 3
   },
   "file_extension": ".py",
   "mimetype": "text/x-python",
   "name": "python",
   "nbconvert_exporter": "python",
   "pygments_lexer": "ipython3",
   "version": "3.9.12"
  }
 },
 "nbformat": 4,
 "nbformat_minor": 5
}
