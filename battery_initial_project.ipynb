{
 "cells": [
  {
   "cell_type": "code",
   "execution_count": 1,
   "metadata": {},
   "outputs": [],
   "source": [
    "import numpy as np\n",
    "import matplotlib.pyplot as plt\n",
    "import pandas as pd\n",
    "import datetime as dt\n",
    "from matplotlib import pyplot as plt\n",
    "plt.rcParams['font.family'] = 'Hiragino Maru Gothic Pro'\n",
    "\n",
    "df = pd.read_csv(\"./datasets/fixed_battery_log_2.csv\")\n",
    "# df.to_csv(\"./datasets/fixed_battery_log_2.csv\",index=False)"
   ]
  },
  {
   "cell_type": "code",
   "execution_count": 2,
   "metadata": {},
   "outputs": [
    {
     "data": {
      "text/html": [
       "<div>\n",
       "<style scoped>\n",
       "    .dataframe tbody tr th:only-of-type {\n",
       "        vertical-align: middle;\n",
       "    }\n",
       "\n",
       "    .dataframe tbody tr th {\n",
       "        vertical-align: top;\n",
       "    }\n",
       "\n",
       "    .dataframe thead th {\n",
       "        text-align: right;\n",
       "    }\n",
       "</style>\n",
       "<table border=\"1\" class=\"dataframe\">\n",
       "  <thead>\n",
       "    <tr style=\"text-align: right;\">\n",
       "      <th></th>\n",
       "      <th>User</th>\n",
       "      <th>date</th>\n",
       "      <th>battery</th>\n",
       "      <th>state</th>\n",
       "      <th>weekday</th>\n",
       "      <th>time_to_num</th>\n",
       "    </tr>\n",
       "  </thead>\n",
       "  <tbody>\n",
       "    <tr>\n",
       "      <th>0</th>\n",
       "      <td>Narita</td>\n",
       "      <td>2021/12/4 1:52</td>\n",
       "      <td>60</td>\n",
       "      <td>ON</td>\n",
       "      <td>5</td>\n",
       "      <td>6773</td>\n",
       "    </tr>\n",
       "    <tr>\n",
       "      <th>1</th>\n",
       "      <td>Narita</td>\n",
       "      <td>2021/12/4 2:22</td>\n",
       "      <td>73</td>\n",
       "      <td>OFF</td>\n",
       "      <td>5</td>\n",
       "      <td>8566</td>\n",
       "    </tr>\n",
       "    <tr>\n",
       "      <th>2</th>\n",
       "      <td>Narita</td>\n",
       "      <td>2021/12/4 7:06</td>\n",
       "      <td>71</td>\n",
       "      <td>ON</td>\n",
       "      <td>5</td>\n",
       "      <td>25564</td>\n",
       "    </tr>\n",
       "    <tr>\n",
       "      <th>3</th>\n",
       "      <td>Narita</td>\n",
       "      <td>2021/12/4 7:15</td>\n",
       "      <td>73</td>\n",
       "      <td>OFF</td>\n",
       "      <td>5</td>\n",
       "      <td>26105</td>\n",
       "    </tr>\n",
       "    <tr>\n",
       "      <th>4</th>\n",
       "      <td>Narita</td>\n",
       "      <td>2021/12/4 7:15</td>\n",
       "      <td>73</td>\n",
       "      <td>ON</td>\n",
       "      <td>5</td>\n",
       "      <td>26113</td>\n",
       "    </tr>\n",
       "  </tbody>\n",
       "</table>\n",
       "</div>"
      ],
      "text/plain": [
       "     User            date  battery state  weekday  time_to_num\n",
       "0  Narita  2021/12/4 1:52       60    ON        5         6773\n",
       "1  Narita  2021/12/4 2:22       73   OFF        5         8566\n",
       "2  Narita  2021/12/4 7:06       71    ON        5        25564\n",
       "3  Narita  2021/12/4 7:15       73   OFF        5        26105\n",
       "4  Narita  2021/12/4 7:15       73    ON        5        26113"
      ]
     },
     "execution_count": 2,
     "metadata": {},
     "output_type": "execute_result"
    }
   ],
   "source": [
    "df.head()"
   ]
  },
  {
   "cell_type": "code",
   "execution_count": null,
   "metadata": {},
   "outputs": [],
   "source": []
  },
  {
   "cell_type": "code",
   "execution_count": null,
   "metadata": {},
   "outputs": [],
   "source": []
  }
 ],
 "metadata": {
  "kernelspec": {
   "display_name": "Python 3 (ipykernel)",
   "language": "python",
   "name": "python3"
  },
  "language_info": {
   "codemirror_mode": {
    "name": "ipython",
    "version": 3
   },
   "file_extension": ".py",
   "mimetype": "text/x-python",
   "name": "python",
   "nbconvert_exporter": "python",
   "pygments_lexer": "ipython3",
   "version": "3.9.12"
  }
 },
 "nbformat": 4,
 "nbformat_minor": 4
}
