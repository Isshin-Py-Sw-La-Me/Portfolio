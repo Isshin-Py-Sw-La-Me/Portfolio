{
 "cells": [
  {
   "cell_type": "code",
   "execution_count": 2,
   "metadata": {},
   "outputs": [],
   "source": [
    "import numpy as np\n",
    "import matplotlib.pyplot as plt\n",
    "import pandas as pd\n",
    "import datetime as dt\n",
    "from matplotlib import pyplot as plt\n",
    "plt.rcParams['font.family'] = 'Hiragino Maru Gothic Pro'"
   ]
  },
  {
   "cell_type": "code",
   "execution_count": 3,
   "metadata": {},
   "outputs": [],
   "source": [
    "df = pd.read_csv(\"./datasets/fixed_battery_log.csv\")\n",
    "df = df.drop(df.columns[0],axis=1)\n",
    "df[\"date\"] = pd.to_datetime(df[\"date\"])\n",
    "users = df[\"User\"].unique()"
   ]
  },
  {
   "cell_type": "code",
   "execution_count": 4,
   "metadata": {},
   "outputs": [],
   "source": [
    "df[\"weekday\"] = df[\"date\"].dt.dayofweek\n",
    "df[\"time_to_num\"]=df[\"date\"].apply(lambda x: x.hour*3600 + x.minute*60 + x.second)"
   ]
  },
  {
   "cell_type": "code",
   "execution_count": 5,
   "metadata": {},
   "outputs": [],
   "source": [
    "def Frequency_Distribution(data, class_width=None):\n",
    "    data = np.asarray(data)\n",
    "    if class_width is None:\n",
    "        class_size = int(np.log2(data.size).round()) + 1\n",
    "        class_width = round((data.max() - data.min()) / class_size)\n",
    "\n",
    "    bins = np.arange(0, data.max()+class_width+1, class_width)\n",
    "    hist = np.histogram(data, bins)[0]\n",
    "    cumsum = hist.cumsum()\n",
    "\n",
    "    return pd.DataFrame({'階級値': (bins[1:] + bins[:-1]) / 2,\n",
    "                         '度数': hist,\n",
    "                         '累積度数': cumsum,\n",
    "                         '相対度数': hist / cumsum[-1],\n",
    "                         '累積相対度数': cumsum / cumsum[-1]},\n",
    "                        index=pd.Index([f'{bins[i]}以上{bins[i+1]}未満'\n",
    "                                        for i in range(hist.size)],\n",
    "                                       name='階級'))\n",
    "\n",
    "Frequency_Distribution(df"
   ]
  },
  {
   "cell_type": "code",
   "execution_count": 21,
   "metadata": {},
   "outputs": [
    {
     "name": "stdout",
     "output_type": "stream",
     "text": [
      "             階級値  度数  累積度数      相対度数    累積相対度数\n",
      "階級                                            \n",
      "0以上12未満      6.0   5     5  0.034722  0.034722\n",
      "12以上24未満    18.0  16    21  0.111111  0.145833\n",
      "24以上36未満    30.0  32    53  0.222222  0.368056\n",
      "36以上48未満    42.0  21    74  0.145833  0.513889\n",
      "48以上60未満    54.0  28   102  0.194444  0.708333\n",
      "60以上72未満    66.0  22   124  0.152778  0.861111\n",
      "72以上84未満    78.0  11   135  0.076389  0.937500\n",
      "84以上96未満    90.0   6   141  0.041667  0.979167\n",
      "96以上108未満  102.0   3   144  0.020833  1.000000\n",
      "            階級値  度数  累積度数      相対度数    累積相対度数\n",
      "階級                                           \n",
      "0以上10未満     5.0   0     0  0.000000  0.000000\n",
      "10以上20未満   15.0   1     1  0.007463  0.007463\n",
      "20以上30未満   25.0   7     8  0.052239  0.059701\n",
      "30以上40未満   35.0  19    27  0.141791  0.201493\n",
      "40以上50未満   45.0  42    69  0.313433  0.514925\n",
      "50以上60未満   55.0  41   110  0.305970  0.820896\n",
      "60以上70未満   65.0  18   128  0.134328  0.955224\n",
      "70以上80未満   75.0   5   133  0.037313  0.992537\n",
      "80以上90未満   85.0   0   133  0.000000  0.992537\n",
      "90以上100未満  95.0   1   134  0.007463  1.000000\n",
      "              階級値  度数  累積度数     相対度数   累積相対度数\n",
      "階級                                           \n",
      "0以上10未満       5.0   0     0  0.00000  0.00000\n",
      "10以上20未満     15.0   0     0  0.00000  0.00000\n",
      "20以上30未満     25.0   7     7  0.04375  0.04375\n",
      "30以上40未満     35.0   9    16  0.05625  0.10000\n",
      "40以上50未満     45.0   9    25  0.05625  0.15625\n",
      "50以上60未満     55.0   7    32  0.04375  0.20000\n",
      "60以上70未満     65.0   9    41  0.05625  0.25625\n",
      "70以上80未満     75.0  21    62  0.13125  0.38750\n",
      "80以上90未満     85.0  26    88  0.16250  0.55000\n",
      "90以上100未満    95.0  48   136  0.30000  0.85000\n",
      "100以上110未満  105.0  24   160  0.15000  1.00000\n",
      "              階級値  度数  累積度数      相対度数    累積相対度数\n",
      "階級                                             \n",
      "0以上10未満       5.0   1     1  0.004975  0.004975\n",
      "10以上20未満     15.0   9    10  0.044776  0.049751\n",
      "20以上30未満     25.0  24    34  0.119403  0.169154\n",
      "30以上40未満     35.0  19    53  0.094527  0.263682\n",
      "40以上50未満     45.0  21    74  0.104478  0.368159\n",
      "50以上60未満     55.0  16    90  0.079602  0.447761\n",
      "60以上70未満     65.0  12   102  0.059701  0.507463\n",
      "70以上80未満     75.0  16   118  0.079602  0.587065\n",
      "80以上90未満     85.0  27   145  0.134328  0.721393\n",
      "90以上100未満    95.0  38   183  0.189055  0.910448\n",
      "100以上110未満  105.0  18   201  0.089552  1.000000\n",
      "             階級値  度数  累積度数      相対度数    累積相対度数\n",
      "階級                                            \n",
      "0以上12未満      6.0  15    15  0.117188  0.117188\n",
      "12以上24未満    18.0  28    43  0.218750  0.335938\n",
      "24以上36未満    30.0  38    81  0.296875  0.632812\n",
      "36以上48未満    42.0  22   103  0.171875  0.804688\n",
      "48以上60未満    54.0  14   117  0.109375  0.914062\n",
      "60以上72未満    66.0   1   118  0.007812  0.921875\n",
      "72以上84未満    78.0   3   121  0.023438  0.945312\n",
      "84以上96未満    90.0   6   127  0.046875  0.992188\n",
      "96以上108未満  102.0   1   128  0.007812  1.000000\n",
      "             階級値  度数  累積度数      相対度数    累積相対度数\n",
      "階級                                            \n",
      "0以上14未満      7.0  12    12  0.164384  0.164384\n",
      "14以上28未満    21.0  30    42  0.410959  0.575342\n",
      "28以上42未満    35.0  12    54  0.164384  0.739726\n",
      "42以上56未満    49.0   7    61  0.095890  0.835616\n",
      "56以上70未満    63.0   2    63  0.027397  0.863014\n",
      "70以上84未満    77.0   1    64  0.013699  0.876712\n",
      "84以上98未満    91.0   0    64  0.000000  0.876712\n",
      "98以上112未満  105.0   9    73  0.123288  1.000000\n",
      "             階級値  度数  累積度数      相対度数    累積相対度数\n",
      "階級                                            \n",
      "0以上12未満      6.0   4     4  0.023669  0.023669\n",
      "12以上24未満    18.0   6    10  0.035503  0.059172\n",
      "24以上36未満    30.0   6    16  0.035503  0.094675\n",
      "36以上48未満    42.0  17    33  0.100592  0.195266\n",
      "48以上60未満    54.0  21    54  0.124260  0.319527\n",
      "60以上72未満    66.0  25    79  0.147929  0.467456\n",
      "72以上84未満    78.0  30   109  0.177515  0.644970\n",
      "84以上96未満    90.0  35   144  0.207101  0.852071\n",
      "96以上108未満  102.0  25   169  0.147929  1.000000\n",
      "             階級値  度数  累積度数      相対度数    累積相対度数\n",
      "階級                                            \n",
      "0以上12未満      6.0  55    55  0.413534  0.413534\n",
      "12以上24未満    18.0  21    76  0.157895  0.571429\n",
      "24以上36未満    30.0  10    86  0.075188  0.646617\n",
      "36以上48未満    42.0   6    92  0.045113  0.691729\n",
      "48以上60未満    54.0   9   101  0.067669  0.759398\n",
      "60以上72未満    66.0   2   103  0.015038  0.774436\n",
      "72以上84未満    78.0   6   109  0.045113  0.819549\n",
      "84以上96未満    90.0  10   119  0.075188  0.894737\n",
      "96以上108未満  102.0  14   133  0.105263  1.000000\n"
     ]
    }
   ],
   "source": [
    "for i in range(len(users)):\n",
    "    User_F_data = Frequency_Distribution(df.loc[(df[\"User\"] == users[i]) & \n",
    "                                                (df[\"state\"] == \"ON\") & \n",
    "                                                (df[\"date\"] > dt.datetime(2021,12,1)) & \n",
    "                                                (df[\"date\"] < dt.datetime(2022,1,31))][\"battery\"])\n",
    "    print(User_F_data)\n",
    "#     User_F_data.plot.bar(x=\"階級値\",y=\"度数\",width=1,ec=\"k\")\n",
    "#     plt.savefig(\"bs_2_results/%s_%d.jpg\" % (users[i],i))"
   ]
  },
  {
   "cell_type": "code",
   "execution_count": 56,
   "metadata": {},
   "outputs": [],
   "source": [
    "for i in range(0,7):\n",
    "    User_F_data_2 = Frequency_Distribution(df.loc[(df[\"User\"] == \"Narita\") & \n",
    "                                                (df[\"state\"] == \"ON\") & \n",
    "                                                (df[\"date\"] > dt.datetime(2021,12,1)) & \n",
    "                                                (df[\"date\"] < dt.datetime(2022,1,31)) &\n",
    "                                                (df[\"weekday\"] == i)][\"battery\"])\n",
    "#     User_F_data_2.plot.bar(x=\"階級値\",y=\"度数\",width=1,ec=\"k\")\n",
    "#     plt.savefig(\"bs_2_results/%s_%d.jpg\" % (users[i],i))"
   ]
  },
  {
   "cell_type": "code",
   "execution_count": 20,
   "metadata": {},
   "outputs": [
    {
     "data": {
      "image/png": "[encoded data removed]",
      "text/plain": [
       "<Figure size 432x288 with 8 Axes>"
      ]
     },
     "metadata": {
      "needs_background": "light"
     },
     "output_type": "display_data"
    },
    {
     "data": {
      "text/plain": [
       "<matplotlib.widgets.SubplotTool at 0x7fa7e42b2100>"
      ]
     },
     "execution_count": 20,
     "metadata": {},
     "output_type": "execute_result"
    },
    {
     "data": {
      "image/png": "[encoded data removed]",
      "text/plain": [
       "<Figure size 432x216 with 7 Axes>"
      ]
     },
     "metadata": {},
     "output_type": "display_data"
    },
    {
     "data": {
      "text/plain": [
       "<Figure size 432x288 with 0 Axes>"
      ]
     },
     "metadata": {},
     "output_type": "display_data"
    }
   ],
   "source": [
    "# fig,ax = plt.subplots(3,3)\n",
    "for i in range(len(users)):\n",
    "    user_data = df.loc[(df[\"User\"] == users[i]) & \n",
    "                        (df[\"state\"] == \"ON\") & \n",
    "                            (df[\"date\"] > dt.datetime(2021,12,1)) & \n",
    "                                (df[\"date\"] < dt.datetime(2022,1,31))]\n",
    "    \n",
    "    plt.subplot(3,3,i+1)\n",
    "    plt.plot(user_data[\"time_to_num\"],user_data[\"battery\"],\"o\")\n",
    "\n",
    "plt.show()"
   ]
  },
  {
   "cell_type": "code",
   "execution_count": 23,
   "metadata": {},
   "outputs": [],
   "source": [
    "Nari_data_12 = df.loc[(df[\"User\"] == \"Narita\") & \n",
    "                     (df[\"state\"] == \"ON\") & \n",
    "                       (df[\"date\"] > dt.datetime(2021,12,1)) & \n",
    "                         (df[\"date\"] < dt.datetime(2021,12,31))]"
   ]
  },
  {
   "cell_type": "code",
   "execution_count": 25,
   "metadata": {},
   "outputs": [],
   "source": [
    "Nari_data_1 = df.loc[(df[\"User\"] == \"Narita\") & \n",
    "                     (df[\"state\"] == \"ON\") & \n",
    "                       (df[\"date\"] > dt.datetime(2022,1,1)) & \n",
    "                         (df[\"date\"] < dt.datetime(2022,1,31))]"
   ]
  },
  {
   "cell_type": "code",
   "execution_count": 26,
   "metadata": {},
   "outputs": [
    {
     "data": {
      "image/png": "[encoded data removed]",
      "text/plain": [
       "<Figure size 432x288 with 1 Axes>"
      ]
     },
     "metadata": {
      "needs_background": "light"
     },
     "output_type": "display_data"
    }
   ],
   "source": [
    "plt.plot(Nari_data_12[\"time_to_num\"],Nari_data_12[\"battery\"],\"o\")\n",
    "plt.plot(Nari_data_1[\"time_to_num\"],Nari_data_1[\"battery\"],\"o\",color=\"r\")\n",
    "plt.show()"
   ]
  },
  {
   "cell_type": "code",
   "execution_count": 59,
   "metadata": {},
   "outputs": [],
   "source": [
    "Nari_data_b_and_tnum = Nari_data.loc[:,[\"time_to_num\",\"battery\"]]"
   ]
  },
  {
   "cell_type": "code",
   "execution_count": 71,
   "metadata": {},
   "outputs": [
    {
     "data": {
      "text/plain": [
       "LinearRegression()"
      ]
     },
     "execution_count": 71,
     "metadata": {},
     "output_type": "execute_result"
    }
   ],
   "source": [
    "from sklearn.linear_model import LinearRegression\n",
    "from sklearn.preprocessing import StandardScaler\n",
    "model_lr = LinearRegression()\n",
    "std_scaler = StandardScaler()\n",
    "std_scaler.fit(Nari_data_b_and_tnum)\n",
    "df_std = pd.DataFrame(std_scaler.transform(Nari_data_b_and_tnum), columns=Nari_data_b_and_tnum.columns)\n",
    "x = df_std[[\"time_to_num\"]]\n",
    "y = df_std[[\"battery\"]]\n",
    "model_lr.fit(x,y)"
   ]
  },
  {
   "cell_type": "code",
   "execution_count": 72,
   "metadata": {},
   "outputs": [
    {
     "data": {
      "image/png": "[encoded data removed]",
      "text/plain": [
       "<Figure size 432x288 with 1 Axes>"
      ]
     },
     "metadata": {
      "needs_background": "light"
     },
     "output_type": "display_data"
    },
    {
     "name": "stdout",
     "output_type": "stream",
     "text": [
      "モデル関数の回帰変数 w1: 0.041976\n",
      "モデル関数の切片 w2: -0.000\n",
      "y= 0.041976x + -0.000\n",
      "決定係数 R^2：  0.0017619929041250426\n"
     ]
    }
   ],
   "source": [
    "plt.plot(x, y, 'o')\n",
    "plt.plot(x, model_lr.predict(x), linestyle=\"solid\")\n",
    "plt.show()\n",
    "\n",
    "print('モデル関数の回帰変数 w1: %f' %model_lr.coef_)\n",
    "print('モデル関数の切片 w2: %.3f' %model_lr.intercept_)\n",
    "print('y= %fx + %.3f' % (model_lr.coef_ , model_lr.intercept_))\n",
    "print('決定係数 R^2： ', model_lr.score(x, y))"
   ]
  },
  {
   "cell_type": "code",
   "execution_count": null,
   "metadata": {},
   "outputs": [],
   "source": []
  }
 ],
 "metadata": {
  "kernelspec": {
   "display_name": "Python 3",
   "language": "python",
   "name": "python3"
  },
  "language_info": {
   "codemirror_mode": {
    "name": "ipython",
    "version": 3
   },
   "file_extension": ".py",
   "mimetype": "text/x-python",
   "name": "python",
   "nbconvert_exporter": "python",
   "pygments_lexer": "ipython3",
   "version": "3.8.5"
  }
 },
 "nbformat": 4,
 "nbformat_minor": 4
}
