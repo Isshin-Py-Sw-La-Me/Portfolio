{
 "cells": [
  {
   "cell_type": "code",
   "execution_count": 2,
   "metadata": {},
   "outputs": [],
   "source": [
    "import numpy as np\n",
    "import matplotlib.pyplot as plt\n",
    "import pandas as pd\n",
    "import datetime as dt\n",
    "from matplotlib import pyplot as plt\n",
    "plt.rcParams['font.family'] = 'Hiragino Maru Gothic Pro'"
   ]
  },
  {
   "cell_type": "code",
   "execution_count": 3,
   "metadata": {},
   "outputs": [],
   "source": [
    "df = pd.read_csv(\"./datasets/fixed_battery_log.csv\")\n",
    "df = df.drop(df.columns[0],axis=1)\n",
    "df[\"date\"] = pd.to_datetime(df[\"date\"])\n",
    "users = df[\"User\"].unique()"
   ]
  },
  {
   "cell_type": "code",
   "execution_count": 5,
   "metadata": {},
   "outputs": [],
   "source": [
    "df[\"weekday\"] = df[\"date\"].dt.dayofweek\n",
    "df[\"time_to_num\"]=df[\"date\"].apply(lambda x: x.hour*3600 + x.minute*60 + x.second)"
   ]
  },
  {
   "cell_type": "code",
   "execution_count": 6,
   "metadata": {},
   "outputs": [],
   "source": [
    "def Frequency_Distribution(data, class_width=None):\n",
    "    data = np.asarray(data)\n",
    "    if class_width is None:\n",
    "        class_size = int(np.log2(data.size).round()) + 1\n",
    "        class_width = round((data.max() - data.min()) / class_size)\n",
    "\n",
    "    bins = np.arange(0, data.max()+class_width+1, class_width)\n",
    "    hist = np.histogram(data, bins)[0]\n",
    "    cumsum = hist.cumsum()\n",
    "\n",
    "    return pd.DataFrame({'階級値': (bins[1:] + bins[:-1]) / 2,\n",
    "                         '度数': hist,\n",
    "                         '累積度数': cumsum,\n",
    "                         '相対度数': hist / cumsum[-1],\n",
    "                         '累積相対度数': cumsum / cumsum[-1]},\n",
    "                        index=pd.Index([f'{bins[i]}以上{bins[i+1]}未満'\n",
    "                                        for i in range(hist.size)],\n",
    "                                       name='階級'))"
   ]
  },
  {
   "cell_type": "code",
   "execution_count": 7,
   "metadata": {},
   "outputs": [],
   "source": [
    "for i in range(len(users)):\n",
    "    User_F_data = Frequency_Distribution(df.loc[(df[\"User\"] == users[i]) & \n",
    "                                                (df[\"state\"] == \"ON\") & \n",
    "                                                (df[\"date\"] > dt.datetime(2021,12,1)) & \n",
    "                                                (df[\"date\"] < dt.datetime(2022,1,31))][\"battery\"])\n",
    "#     User_F_data.plot.bar(x=\"階級値\",y=\"度数\",width=1,ec=\"k\")\n",
    "#     plt.savefig(\"bs_2_results/%s_%d.jpg\" % (users[i],i))"
   ]
  },
  {
   "cell_type": "code",
   "execution_count": 8,
   "metadata": {},
   "outputs": [],
   "source": [
    "for i in range(0,7):\n",
    "    User_F_data_2 = Frequency_Distribution(df.loc[(df[\"User\"] == \"Narita\") & \n",
    "                                                (df[\"state\"] == \"ON\") & \n",
    "                                                (df[\"date\"] > dt.datetime(2021,12,1)) & \n",
    "                                                (df[\"date\"] < dt.datetime(2022,1,31)) &\n",
    "                                                (df[\"weekday\"] == i)][\"battery\"])\n",
    "#     User_F_data_2.plot.bar(x=\"階級値\",y=\"度数\",width=1,ec=\"k\")\n",
    "#     plt.savefig(\"bs_2_results/%s_%d.jpg\" % (users[i],i))"
   ]
  },
  {
   "cell_type": "code",
   "execution_count": 9,
   "metadata": {},
   "outputs": [],
   "source": [
    "Nari_data = df.loc[(df[\"User\"] == \"Narita\") & \n",
    "                     (df[\"state\"] == \"ON\") & \n",
    "                       (df[\"date\"] > dt.datetime(2021,12,1)) & \n",
    "                         (df[\"date\"] < dt.datetime(2022,1,31))]"
   ]
  },
  {
   "cell_type": "code",
   "execution_count": 10,
   "metadata": {},
   "outputs": [
    {
     "data": {
      "image/png": "[encoded data removed]",
      "text/plain": [
       "<Figure size 432x288 with 1 Axes>"
      ]
     },
     "metadata": {
      "needs_background": "light"
     },
     "output_type": "display_data"
    }
   ],
   "source": [
    "plt.plot(Nari_data[\"time_to_num\"],Nari_data[\"battery\"],\"o\")\n",
    "plt.show()"
   ]
  },
  {
   "cell_type": "code",
   "execution_count": 11,
   "metadata": {},
   "outputs": [],
   "source": [
    "Nari_data_b_and_tnum = Nari_data.loc[:,[\"time_to_num\",\"battery\"]]"
   ]
  },
  {
   "cell_type": "code",
   "execution_count": 13,
   "metadata": {},
   "outputs": [
    {
     "data": {
      "text/plain": [
       "LinearRegression()"
      ]
     },
     "execution_count": 13,
     "metadata": {},
     "output_type": "execute_result"
    }
   ],
   "source": [
    "from sklearn.linear_model import LinearRegression\n",
    "model_lr = LinearRegression()\n",
    "x = Nari_data_b_and_tnum[[\"time_to_num\"]]\n",
    "y = Nari_data_b_and_tnum[[\"battery\"]]\n",
    "model_lr.fit(x,y)"
   ]
  },
  {
   "cell_type": "code",
   "execution_count": 14,
   "metadata": {},
   "outputs": [
    {
     "data": {
      "image/png": "[encoded data removed]",
      "text/plain": [
       "<Figure size 432x288 with 1 Axes>"
      ]
     },
     "metadata": {
      "needs_background": "light"
     },
     "output_type": "display_data"
    },
    {
     "name": "stdout",
     "output_type": "stream",
     "text": [
      "モデル関数の回帰変数 w1: 0.000\n",
      "モデル関数の切片 w2: 43.961\n",
      "y= 0.000x + 43.961\n",
      "決定係数 R^2：  0.0017619929041249316\n"
     ]
    }
   ],
   "source": [
    "plt.plot(x, y, 'o')\n",
    "plt.plot(x, model_lr.predict(x), linestyle=\"solid\")\n",
    "plt.show()\n",
    "\n",
    "print('モデル関数の回帰変数 w1: %.3f' %model_lr.coef_)\n",
    "print('モデル関数の切片 w2: %.3f' %model_lr.intercept_)\n",
    "print('y= %.3fx + %.3f' % (model_lr.coef_ , model_lr.intercept_))\n",
    "print('決定係数 R^2： ', model_lr.score(x, y))"
   ]
  },
  {
   "cell_type": "code",
   "execution_count": null,
   "metadata": {},
   "outputs": [],
   "source": []
  }
 ],
 "metadata": {
  "kernelspec": {
   "display_name": "Python 3",
   "language": "python",
   "name": "python3"
  },
  "language_info": {
   "codemirror_mode": {
    "name": "ipython",
    "version": 3
   },
   "file_extension": ".py",
   "mimetype": "text/x-python",
   "name": "python",
   "nbconvert_exporter": "python",
   "pygments_lexer": "ipython3",
   "version": "3.8.5"
  }
 },
 "nbformat": 4,
 "nbformat_minor": 4
}
