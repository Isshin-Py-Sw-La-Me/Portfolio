{
 "cells": [
  {
   "cell_type": "markdown",
   "id": "f6097adb-8370-480f-ac87-cbc8fe900d90",
   "metadata": {},
   "source": [
    "# Imports"
   ]
  },
  {
   "cell_type": "code",
   "execution_count": 1,
   "id": "8259a92d-4f6a-4a31-becf-598c673045b2",
   "metadata": {
    "tags": []
   },
   "outputs": [],
   "source": [
    "# Import components\n",
    "import datetime as dt\n",
    "import math\n",
    "\n",
    "import matplotlib.pyplot as plt\n",
    "import numpy as np\n",
    "import pandas as pd\n",
    "from matplotlib import pyplot as pltw\n",
    "from sklearn import metrics\n",
    "\n",
    "plt.rcParams[\"font.family\"] = \"Hiragino Maru Gothic Pro\"\n",
    "plt.style.use(\"ggplot\")  # グラフのスタイル\n",
    "plt.rcParams[\"figure.figsize\"] = [12, 9]  # グラフサイズ設定\n",
    "\n",
    "df = pd.read_csv(\"./datasets/fixed_battery_log_2.csv\")\n",
    "df[\"date\"] = pd.to_datetime(df[\"date\"])\n",
    "users = df[\"User\"].unique()\n",
    "first = 1\n",
    "last = 31\n",
    "\n",
    "\n",
    "def Frequency_Distribution(data, bins, class_width=None):\n",
    "    data = np.asarray(data)\n",
    "\n",
    "    #     bins = np.arange(0, 110, 10)\n",
    "    hist = np.histogram(data, bins)[0]\n",
    "    cumsum = hist.cumsum()\n",
    "\n",
    "    return pd.DataFrame(\n",
    "        {\n",
    "            \"階級値\": (bins[1:] + bins[:-1]) / 2,\n",
    "            \"度数\": hist,\n",
    "            \"累積度数\": cumsum,\n",
    "            \"相対度数\": hist / cumsum[-1],\n",
    "            \"累積相対度数\": cumsum / cumsum[-1],\n",
    "        },\n",
    "        index=pd.Index(\n",
    "            [f\"{bins[i]}以上{bins[i+1]}未満\" for i in range(hist.size)], name=\"階級\"\n",
    "        ),\n",
    "    )"
   ]
  },
  {
   "cell_type": "markdown",
   "id": "bad83ec0-fab4-4c17-be05-93b4521838d6",
   "metadata": {
    "tags": []
   },
   "source": [
    "# ターゲットのテンプレート作成"
   ]
  },
  {
   "cell_type": "code",
   "execution_count": 75,
   "id": "7f28862c-bc59-4317-806c-b8733a0ad1b5",
   "metadata": {
    "jupyter": {
     "source_hidden": true
    },
    "tags": []
   },
   "outputs": [],
   "source": [
    "target = users[0]\n",
    "t_T = pd.DataFrame(\n",
    "    df.loc[\n",
    "        (df[\"User\"] == target)\n",
    "        & (df[\"state\"] == \"ON\")\n",
    "        & (df[\"date\"] > dt.datetime(2021, 12, first))\n",
    "        & (df[\"date\"] < dt.datetime(2021, 12, last))\n",
    "    ][\"battery\"].copy()\n",
    ")\n",
    "t_T = t_T.set_index(np.arange(0, len(t_T)))\n",
    "t_T = Frequency_Distribution(t_T, np.arange(0, 105, 5))"
   ]
  },
  {
   "cell_type": "markdown",
   "id": "e69ac706-7f05-4184-bc03-5f727b3e26a9",
   "metadata": {},
   "source": [
    "# ターゲットのクエリ作成"
   ]
  },
  {
   "cell_type": "code",
   "execution_count": 86,
   "id": "4506ff54-31c1-4dad-8623-a4ee7dec2a03",
   "metadata": {
    "jupyter": {
     "source_hidden": true
    },
    "tags": []
   },
   "outputs": [],
   "source": [
    "first_date_cand = pd.date_range(\"2022-01-01\", \"2022-02-01\")\n",
    "t_Q_list = []\n",
    "for i in range(30):\n",
    "    first_date = first_date_cand[np.random.randint(0, len(first_date_cand), 1)]\n",
    "    last_date = first_date + dt.timedelta(days=30)\n",
    "    t_Q = pd.DataFrame(\n",
    "        df.loc[\n",
    "            (df[\"User\"] == target)\n",
    "            & (df[\"state\"] == \"ON\")\n",
    "            & (df[\"date\"] > first_date[0])\n",
    "            & (df[\"date\"] < last_date[0])\n",
    "        ][\"battery\"].copy()\n",
    "    )\n",
    "    t_Q = t_Q.set_index(np.arange(0, len(t_Q)))\n",
    "    t_Q = Frequency_Distribution(t_Q, np.arange(0, 105, 5))\n",
    "    t_Q_list.append(t_Q)"
   ]
  },
  {
   "cell_type": "markdown",
   "id": "86e13a89-5985-46a1-a3c4-b218456783ce",
   "metadata": {},
   "source": [
    "# 他人のクエリ作成"
   ]
  },
  {
   "cell_type": "code",
   "execution_count": 126,
   "id": "8814e79c-44e3-40f0-ae9e-d7f24aea8487",
   "metadata": {
    "jupyter": {
     "source_hidden": true
    },
    "tags": []
   },
   "outputs": [],
   "source": [
    "first_date_cand = pd.date_range(\"2022-01-01\", \"2022-02-01\")\n",
    "i_Q_list = []\n",
    "target = users[0]\n",
    "imposters = users.copy()\n",
    "imposters = imposters[~(imposters == target)]\n",
    "\n",
    "for i in range(30):\n",
    "    first_date = first_date_cand[np.random.randint(0, len(first_date_cand), 1)]\n",
    "    last_date = first_date + dt.timedelta(days=30)\n",
    "    i_Q = pd.DataFrame(\n",
    "        df.loc[\n",
    "            (df[\"User\"] == np.random.choice(imposters))\n",
    "            & (df[\"state\"] == \"ON\")\n",
    "            & (df[\"date\"] > first_date[0])\n",
    "            & (df[\"date\"] < last_date[0])\n",
    "        ][\"battery\"].copy()\n",
    "    )\n",
    "    i_Q = i_Q.set_index(np.arange(0, len(i_Q)))\n",
    "    i_Q = Frequency_Distribution(i_Q, np.arange(0, 105, 5))\n",
    "    i_Q_list.append(i_Q)"
   ]
  },
  {
   "cell_type": "markdown",
   "id": "36972ae1-967f-49f2-8dee-fa4aea556a29",
   "metadata": {},
   "source": [
    "# 本人類似度チェック(ユークリッド距離使用) def check_sim_gen(t_last, q_last):"
   ]
  },
  {
   "cell_type": "code",
   "execution_count": 2,
   "id": "fafd4343-cd9d-4b63-86fb-ce55190069cb",
   "metadata": {
    "tags": []
   },
   "outputs": [],
   "source": [
    "def check_sim_gen(t_last, q_last):\n",
    "    diff_list_gen = []\n",
    "    for h in range(len(users)):\n",
    "        target = users[h]\n",
    "        t_first_date = dt.datetime(2021, 12, 1)\n",
    "\n",
    "        t_T = pd.DataFrame(\n",
    "            df.loc[\n",
    "                (df[\"User\"] == target)\n",
    "                & (df[\"state\"] == \"ON\")\n",
    "                & (df[\"date\"] > t_first_date)\n",
    "                & (df[\"date\"] < (t_first_date + dt.timedelta(days=t_last)))\n",
    "            ][\"battery\"].copy()\n",
    "        )\n",
    "\n",
    "        t_T = t_T.set_index(np.arange(0, len(t_T)))\n",
    "        t_T = Frequency_Distribution(t_T, np.arange(0, 105, 5))\n",
    "        first_date_cand = pd.date_range(\"2022-01-01\", \"2022-02-01\")\n",
    "        t_Q_list = []\n",
    "\n",
    "        for i in range(0, 31):\n",
    "            first_date = first_date_cand[np.random.randint(0, len(first_date_cand), 1)]\n",
    "            last_date = first_date + dt.timedelta(days=q_last)\n",
    "            t_Q = pd.DataFrame(\n",
    "                df.loc[\n",
    "                    (df[\"User\"] == target)\n",
    "                    & (df[\"state\"] == \"ON\")\n",
    "                    & (df[\"date\"] > first_date[0])\n",
    "                    & (df[\"date\"] < last_date[0])\n",
    "                ][\"battery\"].copy()\n",
    "            )\n",
    "            t_Q = t_Q.set_index(np.arange(0, len(t_Q)))\n",
    "            t_Q = Frequency_Distribution(t_Q, np.arange(0, 105, 5))\n",
    "            t_Q_list.append(t_Q)\n",
    "\n",
    "        for j in range(len(t_Q_list)):\n",
    "            diff = 0\n",
    "            for g in range(len(t_T)):\n",
    "                diff += (t_T[\"度数\"][g] - t_Q_list[j][\"度数\"][g]) ** 2\n",
    "            diff = 1 / (math.sqrt(diff) + 1)\n",
    "            diff_list_gen.append(diff)\n",
    "    return diff_list_gen"
   ]
  },
  {
   "cell_type": "markdown",
   "id": "caaf5068-81f9-4a19-9446-a6333957eb8d",
   "metadata": {},
   "source": [
    "# 他人類似度調査(ユークリッド距離) def check_sim_im(t_last, q_last):"
   ]
  },
  {
   "cell_type": "code",
   "execution_count": 3,
   "id": "a392434e-4e0f-40bb-aa2f-97b22c3e37af",
   "metadata": {
    "tags": []
   },
   "outputs": [],
   "source": [
    "def check_sim_im(t_last, q_last):\n",
    "    diff_list_im = []\n",
    "    for h in range(len(users)):\n",
    "        target = users[h]\n",
    "        t_first_date = dt.datetime(2021, 12, 1)\n",
    "\n",
    "        t_T = pd.DataFrame(\n",
    "            df.loc[\n",
    "                (df[\"User\"] == target)\n",
    "                & (df[\"state\"] == \"ON\")\n",
    "                & (df[\"date\"] > t_first_date)\n",
    "                & (df[\"date\"] < (t_first_date + dt.timedelta(days=t_last)))\n",
    "            ][\"battery\"].copy()\n",
    "        )\n",
    "\n",
    "        t_T = t_T.set_index(np.arange(0, len(t_T)))\n",
    "        t_T = Frequency_Distribution(t_T, np.arange(0, 105, 5))\n",
    "\n",
    "        first_date_cand = pd.date_range(\"2022-01-01\", \"2022-02-01\")\n",
    "        i_Q_list = []\n",
    "        target = users[h]\n",
    "        imposters = users.copy()\n",
    "        imposters = imposters[~(imposters == target)]\n",
    "\n",
    "        for i in range(30):\n",
    "            first_date = first_date_cand[np.random.randint(0, len(first_date_cand), 1)]\n",
    "            last_date = first_date + dt.timedelta(days=q_last)\n",
    "            i_Q = pd.DataFrame(\n",
    "                df.loc[\n",
    "                    (df[\"User\"] == np.random.choice(imposters))\n",
    "                    & (df[\"state\"] == \"ON\")\n",
    "                    & (df[\"date\"] > first_date[0])\n",
    "                    & (df[\"date\"] < last_date[0])\n",
    "                ][\"battery\"].copy()\n",
    "            )\n",
    "            i_Q = i_Q.set_index(np.arange(0, len(i_Q)))\n",
    "            i_Q = Frequency_Distribution(i_Q, np.arange(0, 105, 5))\n",
    "            i_Q_list.append(i_Q)\n",
    "\n",
    "            for j in range(len(i_Q_list)):\n",
    "                diff = 0\n",
    "                for g in range(len(t_T)):\n",
    "                    diff += (t_T[\"度数\"][g] - i_Q_list[j][\"度数\"][g]) ** 2\n",
    "                diff = 1 / (math.sqrt(diff) + 1)\n",
    "                diff_list_im.append(diff)\n",
    "    return diff_list_im"
   ]
  },
  {
   "cell_type": "code",
   "execution_count": 74,
   "id": "317027b6-9530-4f58-9836-c91c19982ea2",
   "metadata": {
    "jupyter": {
     "source_hidden": true
    },
    "tags": []
   },
   "outputs": [],
   "source": [
    "# hoge = check_sim_gen(30, 30)\n",
    "# sim_FD_gen = Frequency_Distribution(hoge, np.arange(0, 0.15, 0.01))\n",
    "# sim_FD_gen[\"相対度数\"].plot()\n",
    "\n",
    "# foo = check_sim_im(30,30)\n",
    "# sim_FD_im = Frequency_Distribution(foo, np.arange(0, 0.15, 0.01))\n",
    "# sim_FD_im[\"相対度数\"].plot()\n",
    "# sim_FD_gen[\"相対度数\"].plot(c=\"r\")\n",
    "# sim_FD_im[\"相対度数\"].plot(c=\"b\")"
   ]
  },
  {
   "cell_type": "markdown",
   "id": "d7231f0c-fdd2-472c-b924-027f15b7c139",
   "metadata": {},
   "source": [
    "# def visualizer_roc_curve(gen, im, flag):"
   ]
  },
  {
   "cell_type": "code",
   "execution_count": 4,
   "id": "ac7f2567-82e1-4bc6-9be6-403013ae0a8f",
   "metadata": {
    "tags": []
   },
   "outputs": [],
   "source": [
    "def visualizer_roc_curve(gen, im, flag):\n",
    "    grand_truth = np.concatenate((np.ones(len(gen)), np.zeros(len(im))))\n",
    "    score = np.concatenate((gen, im))\n",
    "    far, tpr, threshold = metrics.roc_curve(grand_truth, score)\n",
    "    auc = metrics.auc(far, tpr)\n",
    "    frr = 1.0 - tpr\n",
    "    eer = far[np.where((far - frr) < 0)[0][-1]]\n",
    "    if flag == 0:\n",
    "        print(eer)\n",
    "        plt.plot(far, tpr, label=\"ROC curve (area = %.2f)\" % auc)\n",
    "        plt.legend()\n",
    "        plt.xlabel(\"FPR: False positive rate\")\n",
    "        plt.ylabel(\"TPR: True positive rate\")\n",
    "        plt.grid()\n",
    "        plt.show()\n",
    "\n",
    "        plt.plot(far, frr)\n",
    "        plt.xlabel(\"FAR\")\n",
    "        plt.ylabel(\"FRR\")\n",
    "        plt.show()\n",
    "\n",
    "        far_kai = pd.DataFrame(far[1:-1]).copy().set_index(threshold[1:-1])\n",
    "        frr_kai = pd.DataFrame(frr[1:-1]).copy().set_index(threshold[1:-1])\n",
    "        plt.plot(far_kai, color=\"r\")\n",
    "        plt.plot(frr_kai, color=\"b\")\n",
    "        plt.show()\n",
    "    else:\n",
    "        return eer"
   ]
  },
  {
   "cell_type": "markdown",
   "id": "3f636d8f-1ac6-42f1-8527-93f4d31b856f",
   "metadata": {},
   "source": [
    "# T_7days"
   ]
  },
  {
   "cell_type": "code",
   "execution_count": 5,
   "id": "8c58709d-e2dd-4918-b75c-fd053e76d77d",
   "metadata": {
    "collapsed": true,
    "jupyter": {
     "outputs_hidden": true,
     "source_hidden": true
    },
    "tags": []
   },
   "outputs": [
    {
     "name": "stdout",
     "output_type": "stream",
     "text": [
      "T:  7 days, Q: 7 days\n",
      "Avg EER: 0.3630\n",
      "T:  7 days, Q: 14 days\n",
      "Avg EER: 0.4383\n",
      "T:  7 days, Q: 21 days\n",
      "Avg EER: 0.4397\n",
      "T:  7 days, Q: 30 days\n",
      "Avg EER: 0.4777\n"
     ]
    }
   ],
   "source": [
    "q_last_list = [7, 14, 21, 30]\n",
    "t_day = 7\n",
    "for a in q_last_list:\n",
    "    print(\"T: %2d days, Q: %d days\" % (t_day, a))\n",
    "    eer_list = []\n",
    "    for b in range(0, 100):\n",
    "        Gen = check_sim_gen(t_day, a)\n",
    "        Im = check_sim_im(t_day, a)\n",
    "        eer_list.append(visualizer_roc_curve(Gen, Im, 1))\n",
    "    print(\"Avg EER: %.4f\" % np.mean(eer_list))"
   ]
  },
  {
   "cell_type": "markdown",
   "id": "b8b0376e-bd61-44aa-bb95-ce1d61552cb4",
   "metadata": {},
   "source": [
    "# T_14days"
   ]
  },
  {
   "cell_type": "code",
   "execution_count": 6,
   "id": "1d534e9d-a693-4f8b-8edd-2928a1ddf3f5",
   "metadata": {
    "tags": []
   },
   "outputs": [
    {
     "name": "stdout",
     "output_type": "stream",
     "text": [
      "T:  7 days, Q: 7 days\n",
      "Avg EER: 0.3597\n",
      "Std EER: 0.0214\n",
      "T:  7 days, Q: 14 days\n",
      "Avg EER: 0.4323\n",
      "Std EER: 0.0213\n",
      "T:  7 days, Q: 21 days\n",
      "Avg EER: 0.4397\n",
      "Std EER: 0.0237\n",
      "T:  7 days, Q: 30 days\n",
      "Avg EER: 0.4790\n",
      "Std EER: 0.0190\n",
      "T: 14 days, Q: 7 days\n",
      "Avg EER: 0.3227\n",
      "Std EER: 0.0172\n",
      "T: 14 days, Q: 14 days\n",
      "Avg EER: 0.3365\n",
      "Std EER: 0.0185\n",
      "T: 14 days, Q: 21 days\n",
      "Avg EER: 0.3618\n",
      "Std EER: 0.0187\n",
      "T: 14 days, Q: 30 days\n",
      "Avg EER: 0.4208\n",
      "Std EER: 0.0283\n",
      "T: 21 days, Q: 7 days\n",
      "Avg EER: 0.2968\n",
      "Std EER: 0.0187\n",
      "T: 21 days, Q: 14 days\n",
      "Avg EER: 0.2266\n",
      "Std EER: 0.0196\n",
      "T: 21 days, Q: 21 days\n",
      "Avg EER: 0.2167\n",
      "Std EER: 0.0174\n",
      "T: 21 days, Q: 30 days\n",
      "Avg EER: 0.2745\n",
      "Std EER: 0.0173\n",
      "T: 30 days, Q: 7 days\n",
      "Avg EER: 0.3913\n",
      "Std EER: 0.0102\n",
      "T: 30 days, Q: 14 days\n",
      "Avg EER: 0.2717\n",
      "Std EER: 0.0125\n",
      "T: 30 days, Q: 21 days\n",
      "Avg EER: 0.2043\n",
      "Std EER: 0.0177\n",
      "T: 30 days, Q: 30 days\n",
      "Avg EER: 0.1971\n",
      "Std EER: 0.0207\n"
     ]
    }
   ],
   "source": [
    "q_last_list = [7, 14, 21, 30]\n",
    "t_day = 7\n",
    "for a in q_last_list:\n",
    "    print(\"T: %2d days, Q: %d days\" % (t_day, a))\n",
    "    eer_list = []\n",
    "    for b in range(0, 100):\n",
    "        Gen = check_sim_gen(t_day, a)\n",
    "        Im = check_sim_im(t_day, a)\n",
    "        eer_list.append(visualizer_roc_curve(Gen, Im, 1))\n",
    "    print(\"Avg EER: %.4f\" % np.mean(eer_list))\n",
    "    print(\"Std EER: %.4f\" % np.std(eer_list))\n",
    "\n",
    "q_last_list = [7, 14, 21, 30]\n",
    "t_day = 14\n",
    "for a in q_last_list:\n",
    "    print(\"T: %2d days, Q: %d days\" % (t_day, a))\n",
    "    eer_list = []\n",
    "    for b in range(0, 100):\n",
    "        Gen = check_sim_gen(t_day, a)\n",
    "        Im = check_sim_im(t_day, a)\n",
    "        eer_list.append(visualizer_roc_curve(Gen, Im, 1))\n",
    "    print(\"Avg EER: %.4f\" % np.mean(eer_list))\n",
    "    print(\"Std EER: %.4f\" % np.std(eer_list))\n",
    "\n",
    "q_last_list = [7, 14, 21, 30]\n",
    "t_day = 21\n",
    "for a in q_last_list:\n",
    "    print(\"T: %2d days, Q: %d days\" % (t_day, a))\n",
    "    eer_list = []\n",
    "    for b in range(0, 100):\n",
    "        Gen = check_sim_gen(t_day, a)\n",
    "        Im = check_sim_im(t_day, a)\n",
    "        eer_list.append(visualizer_roc_curve(Gen, Im, 1))\n",
    "    print(\"Avg EER: %.4f\" % np.mean(eer_list))\n",
    "    print(\"Std EER: %.4f\" % np.std(eer_list))\n",
    "\n",
    "q_last_list = [7, 14, 21, 30]\n",
    "t_day = 30\n",
    "for a in q_last_list:\n",
    "    print(\"T: %2d days, Q: %d days\" % (t_day, a))\n",
    "    eer_list = []\n",
    "    for b in range(0, 100):\n",
    "        Gen = check_sim_gen(t_day, a)\n",
    "        Im = check_sim_im(t_day, a)\n",
    "        eer_list.append(visualizer_roc_curve(Gen, Im, 1))\n",
    "    print(\"Avg EER: %.4f\" % np.mean(eer_list))\n",
    "    print(\"Std EER: %.4f\" % np.std(eer_list))"
   ]
  },
  {
   "cell_type": "code",
   "execution_count": null,
   "id": "0ea5c637-e500-4aef-b87c-1c8f03aa18ca",
   "metadata": {},
   "outputs": [],
   "source": []
  }
 ],
 "metadata": {
  "kernelspec": {
   "display_name": "Python 3 (ipykernel)",
   "language": "python",
   "name": "python3"
  },
  "language_info": {
   "codemirror_mode": {
    "name": "ipython",
    "version": 3
   },
   "file_extension": ".py",
   "mimetype": "text/x-python",
   "name": "python",
   "nbconvert_exporter": "python",
   "pygments_lexer": "ipython3",
   "version": "3.9.12"
  }
 },
 "nbformat": 4,
 "nbformat_minor": 5
}
